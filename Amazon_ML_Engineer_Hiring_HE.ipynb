{
  "nbformat": 4,
  "nbformat_minor": 0,
  "metadata": {
    "colab": {
      "name": "Amazon ML Engineer Hiring_HE.ipynb",
      "provenance": [],
      "collapsed_sections": []
    },
    "kernelspec": {
      "name": "python3",
      "display_name": "Python 3"
    }
  },
  "cells": [
    {
      "cell_type": "code",
      "metadata": {
        "colab": {
          "base_uri": "https://localhost:8080/"
        },
        "id": "KsX63Rm-cJnz",
        "outputId": "007b86a7-2be3-428c-dab5-2491685f467b"
      },
      "source": [
        "!wget https://he-s3.s3.amazonaws.com/media/hackathon/amazon-ml-engineer-hiring-challenge/amazon-ml-2020-predict-the-category-of-the-customer-5-c575cc6b/9e5938fc2ce611eb.zip"
      ],
      "execution_count": null,
      "outputs": [
        {
          "output_type": "stream",
          "text": [
            "--2020-12-06 14:26:01--  https://he-s3.s3.amazonaws.com/media/hackathon/amazon-ml-engineer-hiring-challenge/amazon-ml-2020-predict-the-category-of-the-customer-5-c575cc6b/9e5938fc2ce611eb.zip\n",
            "Resolving he-s3.s3.amazonaws.com (he-s3.s3.amazonaws.com)... 52.219.40.20\n",
            "Connecting to he-s3.s3.amazonaws.com (he-s3.s3.amazonaws.com)|52.219.40.20|:443... connected.\n",
            "HTTP request sent, awaiting response... 200 OK\n",
            "Length: 1373655 (1.3M) [application/zip]\n",
            "Saving to: ‘9e5938fc2ce611eb.zip’\n",
            "\n",
            "9e5938fc2ce611eb.zi 100%[===================>]   1.31M  1.31MB/s    in 1.0s    \n",
            "\n",
            "2020-12-06 14:26:03 (1.31 MB/s) - ‘9e5938fc2ce611eb.zip’ saved [1373655/1373655]\n",
            "\n"
          ],
          "name": "stdout"
        }
      ]
    },
    {
      "cell_type": "code",
      "metadata": {
        "colab": {
          "base_uri": "https://localhost:8080/"
        },
        "id": "48AnfSORccZg",
        "outputId": "5efe93f1-7205-4d3d-ccb9-a4845f453673"
      },
      "source": [
        "!unzip 9e5938fc2ce611eb.zip"
      ],
      "execution_count": null,
      "outputs": [
        {
          "output_type": "stream",
          "text": [
            "Archive:  9e5938fc2ce611eb.zip\n",
            "  inflating: train.csv               \n",
            "  inflating: test.csv                \n"
          ],
          "name": "stdout"
        }
      ]
    },
    {
      "cell_type": "code",
      "metadata": {
        "id": "q9ifizKcLDa1",
        "colab": {
          "base_uri": "https://localhost:8080/"
        },
        "outputId": "ab8cf1f5-2c65-4f35-f342-970529ab58e5"
      },
      "source": [
        "import pandas as pd\n",
        "import numpy as np\n",
        "import matplotlib.pyplot as plt\n",
        "%matplotlib inline\n",
        "import warnings\n",
        "warnings.simplefilter(action='ignore', category=FutureWarning)\n",
        "!pip install catboost"
      ],
      "execution_count": null,
      "outputs": [
        {
          "output_type": "stream",
          "text": [
            "Collecting catboost\n",
            "\u001b[?25l  Downloading https://files.pythonhosted.org/packages/7e/c1/c1c4707013f9e2f8a96899dd3a87f66c9167d6d776a6dc8fe7ec8678d446/catboost-0.24.3-cp36-none-manylinux1_x86_64.whl (66.3MB)\n",
            "\u001b[K     |████████████████████████████████| 66.3MB 60kB/s \n",
            "\u001b[?25hRequirement already satisfied: pandas>=0.24.0 in /usr/local/lib/python3.6/dist-packages (from catboost) (1.1.4)\n",
            "Requirement already satisfied: scipy in /usr/local/lib/python3.6/dist-packages (from catboost) (1.4.1)\n",
            "Requirement already satisfied: matplotlib in /usr/local/lib/python3.6/dist-packages (from catboost) (3.2.2)\n",
            "Requirement already satisfied: six in /usr/local/lib/python3.6/dist-packages (from catboost) (1.15.0)\n",
            "Requirement already satisfied: plotly in /usr/local/lib/python3.6/dist-packages (from catboost) (4.4.1)\n",
            "Requirement already satisfied: numpy>=1.16.0 in /usr/local/lib/python3.6/dist-packages (from catboost) (1.18.5)\n",
            "Requirement already satisfied: graphviz in /usr/local/lib/python3.6/dist-packages (from catboost) (0.10.1)\n",
            "Requirement already satisfied: python-dateutil>=2.7.3 in /usr/local/lib/python3.6/dist-packages (from pandas>=0.24.0->catboost) (2.8.1)\n",
            "Requirement already satisfied: pytz>=2017.2 in /usr/local/lib/python3.6/dist-packages (from pandas>=0.24.0->catboost) (2018.9)\n",
            "Requirement already satisfied: kiwisolver>=1.0.1 in /usr/local/lib/python3.6/dist-packages (from matplotlib->catboost) (1.3.1)\n",
            "Requirement already satisfied: pyparsing!=2.0.4,!=2.1.2,!=2.1.6,>=2.0.1 in /usr/local/lib/python3.6/dist-packages (from matplotlib->catboost) (2.4.7)\n",
            "Requirement already satisfied: cycler>=0.10 in /usr/local/lib/python3.6/dist-packages (from matplotlib->catboost) (0.10.0)\n",
            "Requirement already satisfied: retrying>=1.3.3 in /usr/local/lib/python3.6/dist-packages (from plotly->catboost) (1.3.3)\n",
            "Installing collected packages: catboost\n",
            "Successfully installed catboost-0.24.3\n"
          ],
          "name": "stdout"
        }
      ]
    },
    {
      "cell_type": "code",
      "metadata": {
        "id": "n79PrHkFti56"
      },
      "source": [
        "train = pd.read_csv('train.csv')\n",
        "test = pd.read_csv('test.csv')\n",
        "re=test['customer_id']"
      ],
      "execution_count": null,
      "outputs": []
    },
    {
      "cell_type": "code",
      "metadata": {
        "colab": {
          "base_uri": "https://localhost:8080/",
          "height": 190
        },
        "id": "W8kiWT-hN1mD",
        "outputId": "80741232-1007-46f5-ffb1-881ee101ef4a"
      },
      "source": [
        "train.head(5)"
      ],
      "execution_count": null,
      "outputs": [
        {
          "output_type": "execute_result",
          "data": {
            "text/html": [
              "<div>\n",
              "<style scoped>\n",
              "    .dataframe tbody tr th:only-of-type {\n",
              "        vertical-align: middle;\n",
              "    }\n",
              "\n",
              "    .dataframe tbody tr th {\n",
              "        vertical-align: top;\n",
              "    }\n",
              "\n",
              "    .dataframe thead th {\n",
              "        text-align: right;\n",
              "    }\n",
              "</style>\n",
              "<table border=\"1\" class=\"dataframe\">\n",
              "  <thead>\n",
              "    <tr style=\"text-align: right;\">\n",
              "      <th></th>\n",
              "      <th>customer_id</th>\n",
              "      <th>customer_visit_score</th>\n",
              "      <th>customer_product_search_score</th>\n",
              "      <th>customer_ctr_score</th>\n",
              "      <th>customer_stay_score</th>\n",
              "      <th>customer_frequency_score</th>\n",
              "      <th>customer_product_variation_score</th>\n",
              "      <th>customer_order_score</th>\n",
              "      <th>customer_affinity_score</th>\n",
              "      <th>customer_active_segment</th>\n",
              "      <th>X1</th>\n",
              "      <th>customer_category</th>\n",
              "    </tr>\n",
              "  </thead>\n",
              "  <tbody>\n",
              "    <tr>\n",
              "      <th>0</th>\n",
              "      <td>csid_1</td>\n",
              "      <td>13.168425</td>\n",
              "      <td>9.447662</td>\n",
              "      <td>-0.070203</td>\n",
              "      <td>-0.139541</td>\n",
              "      <td>0.436956</td>\n",
              "      <td>4.705761</td>\n",
              "      <td>2.537985</td>\n",
              "      <td>7.959503</td>\n",
              "      <td>C</td>\n",
              "      <td>F</td>\n",
              "      <td>0</td>\n",
              "    </tr>\n",
              "    <tr>\n",
              "      <th>1</th>\n",
              "      <td>csid_2</td>\n",
              "      <td>17.092979</td>\n",
              "      <td>7.329056</td>\n",
              "      <td>0.153298</td>\n",
              "      <td>-0.102726</td>\n",
              "      <td>0.380340</td>\n",
              "      <td>4.205138</td>\n",
              "      <td>4.193444</td>\n",
              "      <td>17.517381</td>\n",
              "      <td>C</td>\n",
              "      <td>A</td>\n",
              "      <td>0</td>\n",
              "    </tr>\n",
              "    <tr>\n",
              "      <th>2</th>\n",
              "      <td>csid_3</td>\n",
              "      <td>17.505334</td>\n",
              "      <td>5.143676</td>\n",
              "      <td>0.106709</td>\n",
              "      <td>0.262834</td>\n",
              "      <td>0.417648</td>\n",
              "      <td>4.479070</td>\n",
              "      <td>3.878971</td>\n",
              "      <td>12.595155</td>\n",
              "      <td>C</td>\n",
              "      <td>BA</td>\n",
              "      <td>0</td>\n",
              "    </tr>\n",
              "    <tr>\n",
              "      <th>3</th>\n",
              "      <td>csid_4</td>\n",
              "      <td>31.423381</td>\n",
              "      <td>4.917740</td>\n",
              "      <td>-0.020226</td>\n",
              "      <td>-0.100526</td>\n",
              "      <td>0.778130</td>\n",
              "      <td>5.055535</td>\n",
              "      <td>2.708940</td>\n",
              "      <td>4.795073</td>\n",
              "      <td>AA</td>\n",
              "      <td>F</td>\n",
              "      <td>0</td>\n",
              "    </tr>\n",
              "    <tr>\n",
              "      <th>4</th>\n",
              "      <td>csid_5</td>\n",
              "      <td>11.909502</td>\n",
              "      <td>4.237073</td>\n",
              "      <td>0.187178</td>\n",
              "      <td>0.172891</td>\n",
              "      <td>0.162067</td>\n",
              "      <td>3.445247</td>\n",
              "      <td>3.677360</td>\n",
              "      <td>56.636326</td>\n",
              "      <td>C</td>\n",
              "      <td>AA</td>\n",
              "      <td>0</td>\n",
              "    </tr>\n",
              "  </tbody>\n",
              "</table>\n",
              "</div>"
            ],
            "text/plain": [
              "  customer_id  customer_visit_score  ...  X1  customer_category\n",
              "0      csid_1             13.168425  ...   F                  0\n",
              "1      csid_2             17.092979  ...   A                  0\n",
              "2      csid_3             17.505334  ...  BA                  0\n",
              "3      csid_4             31.423381  ...   F                  0\n",
              "4      csid_5             11.909502  ...  AA                  0\n",
              "\n",
              "[5 rows x 12 columns]"
            ]
          },
          "metadata": {
            "tags": []
          },
          "execution_count": 168
        }
      ]
    },
    {
      "cell_type": "code",
      "metadata": {
        "colab": {
          "base_uri": "https://localhost:8080/",
          "height": 190
        },
        "id": "7kirifXnN1lO",
        "outputId": "8ec890bc-1db2-4645-a604-8bafbe019bbe"
      },
      "source": [
        "test.head(5)"
      ],
      "execution_count": null,
      "outputs": [
        {
          "output_type": "execute_result",
          "data": {
            "text/html": [
              "<div>\n",
              "<style scoped>\n",
              "    .dataframe tbody tr th:only-of-type {\n",
              "        vertical-align: middle;\n",
              "    }\n",
              "\n",
              "    .dataframe tbody tr th {\n",
              "        vertical-align: top;\n",
              "    }\n",
              "\n",
              "    .dataframe thead th {\n",
              "        text-align: right;\n",
              "    }\n",
              "</style>\n",
              "<table border=\"1\" class=\"dataframe\">\n",
              "  <thead>\n",
              "    <tr style=\"text-align: right;\">\n",
              "      <th></th>\n",
              "      <th>customer_id</th>\n",
              "      <th>customer_visit_score</th>\n",
              "      <th>customer_product_search_score</th>\n",
              "      <th>customer_ctr_score</th>\n",
              "      <th>customer_stay_score</th>\n",
              "      <th>customer_frequency_score</th>\n",
              "      <th>customer_product_variation_score</th>\n",
              "      <th>customer_order_score</th>\n",
              "      <th>customer_affinity_score</th>\n",
              "      <th>customer_active_segment</th>\n",
              "      <th>X1</th>\n",
              "    </tr>\n",
              "  </thead>\n",
              "  <tbody>\n",
              "    <tr>\n",
              "      <th>0</th>\n",
              "      <td>csid_10739</td>\n",
              "      <td>22.500174</td>\n",
              "      <td>3.702145</td>\n",
              "      <td>0.118811</td>\n",
              "      <td>0.093253</td>\n",
              "      <td>0.689237</td>\n",
              "      <td>5.786842</td>\n",
              "      <td>3.748009</td>\n",
              "      <td>7.661716</td>\n",
              "      <td>B</td>\n",
              "      <td>BA</td>\n",
              "    </tr>\n",
              "    <tr>\n",
              "      <th>1</th>\n",
              "      <td>csid_10740</td>\n",
              "      <td>13.225950</td>\n",
              "      <td>3.600102</td>\n",
              "      <td>0.130985</td>\n",
              "      <td>0.053575</td>\n",
              "      <td>0.142756</td>\n",
              "      <td>3.940359</td>\n",
              "      <td>3.469659</td>\n",
              "      <td>33.999679</td>\n",
              "      <td>B</td>\n",
              "      <td>AA</td>\n",
              "    </tr>\n",
              "    <tr>\n",
              "      <th>2</th>\n",
              "      <td>csid_10741</td>\n",
              "      <td>14.603376</td>\n",
              "      <td>5.084047</td>\n",
              "      <td>-0.004651</td>\n",
              "      <td>-0.036299</td>\n",
              "      <td>0.333709</td>\n",
              "      <td>4.254662</td>\n",
              "      <td>3.855939</td>\n",
              "      <td>33.485630</td>\n",
              "      <td>B</td>\n",
              "      <td>AA</td>\n",
              "    </tr>\n",
              "    <tr>\n",
              "      <th>3</th>\n",
              "      <td>csid_10742</td>\n",
              "      <td>26.149905</td>\n",
              "      <td>3.025501</td>\n",
              "      <td>0.229740</td>\n",
              "      <td>0.204591</td>\n",
              "      <td>3.768405</td>\n",
              "      <td>6.942625</td>\n",
              "      <td>2.362421</td>\n",
              "      <td>0.795372</td>\n",
              "      <td>B</td>\n",
              "      <td>BA</td>\n",
              "    </tr>\n",
              "    <tr>\n",
              "      <th>4</th>\n",
              "      <td>csid_10743</td>\n",
              "      <td>19.810630</td>\n",
              "      <td>5.020400</td>\n",
              "      <td>-0.011347</td>\n",
              "      <td>-0.028780</td>\n",
              "      <td>0.286841</td>\n",
              "      <td>4.585513</td>\n",
              "      <td>3.278624</td>\n",
              "      <td>15.052058</td>\n",
              "      <td>C</td>\n",
              "      <td>BA</td>\n",
              "    </tr>\n",
              "  </tbody>\n",
              "</table>\n",
              "</div>"
            ],
            "text/plain": [
              "  customer_id  customer_visit_score  ...  customer_active_segment  X1\n",
              "0  csid_10739             22.500174  ...                        B  BA\n",
              "1  csid_10740             13.225950  ...                        B  AA\n",
              "2  csid_10741             14.603376  ...                        B  AA\n",
              "3  csid_10742             26.149905  ...                        B  BA\n",
              "4  csid_10743             19.810630  ...                        C  BA\n",
              "\n",
              "[5 rows x 11 columns]"
            ]
          },
          "metadata": {
            "tags": []
          },
          "execution_count": 169
        }
      ]
    },
    {
      "cell_type": "code",
      "metadata": {
        "id": "pJ7v_HYSfuwr"
      },
      "source": [
        "df=pd.concat([train,test])"
      ],
      "execution_count": null,
      "outputs": []
    },
    {
      "cell_type": "code",
      "metadata": {
        "colab": {
          "base_uri": "https://localhost:8080/"
        },
        "id": "79Digt0PfzT9",
        "outputId": "8e7959cb-25d8-435c-c8d8-ee86f060d6e0"
      },
      "source": [
        "df.nunique(), df.isnull().sum(),df.dtypes"
      ],
      "execution_count": null,
      "outputs": [
        {
          "output_type": "execute_result",
          "data": {
            "text/plain": [
              "(customer_id                         17898\n",
              " customer_visit_score                17898\n",
              " customer_product_search_score       17827\n",
              " customer_ctr_score                  17898\n",
              " customer_stay_score                 17845\n",
              " customer_frequency_score            17898\n",
              " customer_product_variation_score    17809\n",
              " customer_order_score                17791\n",
              " customer_affinity_score             17898\n",
              " customer_active_segment                 5\n",
              " X1                                      5\n",
              " customer_category                       2\n",
              " dtype: int64, customer_id                            0\n",
              " customer_visit_score                   0\n",
              " customer_product_search_score         71\n",
              " customer_ctr_score                     0\n",
              " customer_stay_score                   53\n",
              " customer_frequency_score               0\n",
              " customer_product_variation_score      89\n",
              " customer_order_score                 107\n",
              " customer_affinity_score                0\n",
              " customer_active_segment               35\n",
              " X1                                    62\n",
              " customer_category                   7160\n",
              " dtype: int64, customer_id                          object\n",
              " customer_visit_score                float64\n",
              " customer_product_search_score       float64\n",
              " customer_ctr_score                  float64\n",
              " customer_stay_score                 float64\n",
              " customer_frequency_score            float64\n",
              " customer_product_variation_score    float64\n",
              " customer_order_score                float64\n",
              " customer_affinity_score             float64\n",
              " customer_active_segment              object\n",
              " X1                                   object\n",
              " customer_category                   float64\n",
              " dtype: object)"
            ]
          },
          "metadata": {
            "tags": []
          },
          "execution_count": 171
        }
      ]
    },
    {
      "cell_type": "code",
      "metadata": {
        "id": "T3mhzqKFf3E8"
      },
      "source": [
        "df['customer_product_search_score']=df['customer_product_search_score'].fillna(df['customer_product_search_score'].mean())\n",
        "df['customer_stay_score']=df['customer_stay_score'].fillna(df['customer_stay_score'].mean())\n",
        "df['customer_product_variation_score']=df['customer_product_variation_score'].fillna(df['customer_product_variation_score'].mean())\n",
        "df['customer_order_score']=df['customer_order_score'].fillna(df['customer_order_score'].mean())\n",
        "df['customer_active_segment']=df['customer_active_segment'].fillna(method='bfill')\n",
        "df['X1']=df['X1'].fillna(method='bfill')"
      ],
      "execution_count": null,
      "outputs": []
    },
    {
      "cell_type": "code",
      "metadata": {
        "id": "jBycDIskjYGm"
      },
      "source": [
        "df['extraa_score']=df['customer_ctr_score']*(df['customer_product_search_score']+df['customer_product_variation_score'])"
      ],
      "execution_count": null,
      "outputs": []
    },
    {
      "cell_type": "code",
      "metadata": {
        "id": "NJHxR-tChNqc"
      },
      "source": [
        "x=['customer_id']\n",
        "for i in x:\n",
        "  from sklearn.preprocessing import LabelEncoder\n",
        "  le = LabelEncoder()\n",
        "  df[i] = le.fit_transform(df[i])"
      ],
      "execution_count": null,
      "outputs": []
    },
    {
      "cell_type": "code",
      "metadata": {
        "id": "i9wkSY3mgaaE"
      },
      "source": [
        "df = pd.get_dummies(df, columns=['customer_active_segment','X1'])"
      ],
      "execution_count": null,
      "outputs": []
    },
    {
      "cell_type": "code",
      "metadata": {
        "id": "LjeD2HJzkv7B"
      },
      "source": [
        "#del df['customer_id']"
      ],
      "execution_count": null,
      "outputs": []
    },
    {
      "cell_type": "code",
      "metadata": {
        "id": "t2_roPhDgl8w"
      },
      "source": [
        "train = df[df['customer_category'].isnull()==False]\n",
        "test = df[df['customer_category'].isnull()==True]\n",
        "del test['customer_category']"
      ],
      "execution_count": null,
      "outputs": []
    },
    {
      "cell_type": "code",
      "metadata": {
        "id": "KGEIY_G1gzgA"
      },
      "source": [
        "train_df=train.copy()\n",
        "test_df=test.copy()"
      ],
      "execution_count": null,
      "outputs": []
    },
    {
      "cell_type": "markdown",
      "metadata": {
        "id": "aZea8PDAWN-h"
      },
      "source": [
        "# F2"
      ]
    },
    {
      "cell_type": "code",
      "metadata": {
        "id": "gJmdtNUUDY44"
      },
      "source": [
        "from math import sqrt \n",
        "from sklearn.metrics import f1_score"
      ],
      "execution_count": null,
      "outputs": []
    },
    {
      "cell_type": "code",
      "metadata": {
        "id": "o0SFjyilWPos"
      },
      "source": [
        "X = train_df.drop(labels=['customer_category'], axis=1)\n",
        "y = train_df['customer_category'].values\n",
        "\n",
        "from sklearn.model_selection import train_test_split\n",
        "X_train, X_cv, y_train, y_cv = train_test_split(X, y, test_size=0.10, random_state=101)"
      ],
      "execution_count": null,
      "outputs": []
    },
    {
      "cell_type": "code",
      "metadata": {
        "id": "wXjawL8CWPiE",
        "colab": {
          "base_uri": "https://localhost:8080/"
        },
        "outputId": "aad9c61f-d25a-42a0-f7e9-93b6f752933d"
      },
      "source": [
        "X_train.shape, y_train.shape, X_cv.shape, y_cv.shape"
      ],
      "execution_count": null,
      "outputs": [
        {
          "output_type": "execute_result",
          "data": {
            "text/plain": [
              "((9664, 21), (9664,), (1074, 21), (1074,))"
            ]
          },
          "metadata": {
            "tags": []
          },
          "execution_count": 182
        }
      ]
    },
    {
      "cell_type": "code",
      "metadata": {
        "id": "WIcwOjxfeXkv",
        "colab": {
          "base_uri": "https://localhost:8080/"
        },
        "outputId": "c2a51b22-056f-4cd5-aa26-bfe57fd4c434"
      },
      "source": [
        "categorical_features_indices = np.where(X_train.dtypes == 'category')[0]\n",
        "categorical_features_indices"
      ],
      "execution_count": null,
      "outputs": [
        {
          "output_type": "execute_result",
          "data": {
            "text/plain": [
              "array([], dtype=int64)"
            ]
          },
          "metadata": {
            "tags": []
          },
          "execution_count": 183
        }
      ]
    },
    {
      "cell_type": "code",
      "metadata": {
        "id": "AEOxyYfmdoi9",
        "colab": {
          "base_uri": "https://localhost:8080/"
        },
        "outputId": "59435343-7815-4c02-fdc7-3e3aa2e10a56"
      },
      "source": [
        "from catboost import CatBoostClassifier\n",
        "cat = CatBoostClassifier(loss_function='MultiClass', \n",
        "                         eval_metric='TotalF1', \n",
        "                         classes_count=2,\n",
        "                         depth=10,\n",
        "                         random_seed=101, \n",
        "                         iterations=3500, \n",
        "                         learning_rate=0.1,\n",
        "                         leaf_estimation_iterations=1,\n",
        "                         l2_leaf_reg=1,\n",
        "                         bootstrap_type='Bayesian', \n",
        "                         bagging_temperature=1, \n",
        "                         random_strength=1,\n",
        "                         od_type='Iter', \n",
        "                         border_count=100,\n",
        "                         od_wait=500)\n",
        "cat.fit(X_train, y_train, verbose=100,\n",
        "        use_best_model=True,\n",
        "        cat_features=categorical_features_indices,\n",
        "        eval_set=[(X_train, y_train),(X_cv, y_cv)],\n",
        "        plot=False)\n",
        "predictions = cat.predict(X_cv)\n",
        "print('accuracy:', f1_score(y_cv, predictions, average='macro'))"
      ],
      "execution_count": null,
      "outputs": [
        {
          "output_type": "stream",
          "text": [
            "0:\tlearn: 0.9742542\ttest: 0.9742542\ttest1: 0.9746347\tbest: 0.9746347 (0)\ttotal: 40.3ms\tremaining: 2m 20s\n",
            "100:\tlearn: 0.9873923\ttest: 0.9873923\ttest1: 0.9811067\tbest: 0.9811067 (86)\ttotal: 3.46s\tremaining: 1m 56s\n",
            "200:\tlearn: 0.9944777\ttest: 0.9944777\ttest1: 0.9820847\tbest: 0.9820847 (149)\ttotal: 6.9s\tremaining: 1m 53s\n",
            "300:\tlearn: 0.9990672\ttest: 0.9990672\ttest1: 0.9811067\tbest: 0.9820847 (149)\ttotal: 10.3s\tremaining: 1m 49s\n",
            "400:\tlearn: 1.0000000\ttest: 1.0000000\ttest1: 0.9801988\tbest: 0.9820847 (149)\ttotal: 13.7s\tremaining: 1m 45s\n",
            "500:\tlearn: 1.0000000\ttest: 1.0000000\ttest1: 0.9801988\tbest: 0.9820847 (149)\ttotal: 17.1s\tremaining: 1m 42s\n",
            "600:\tlearn: 1.0000000\ttest: 1.0000000\ttest1: 0.9801988\tbest: 0.9820847 (149)\ttotal: 20.5s\tremaining: 1m 38s\n",
            "Stopped by overfitting detector  (500 iterations wait)\n",
            "\n",
            "bestTest = 0.9820846722\n",
            "bestIteration = 149\n",
            "\n",
            "Shrink model to first 150 iterations.\n",
            "accuracy: 0.9555992662977847\n"
          ],
          "name": "stdout"
        }
      ]
    },
    {
      "cell_type": "code",
      "metadata": {
        "id": "2F8XXXNCojYR",
        "colab": {
          "base_uri": "https://localhost:8080/"
        },
        "outputId": "876a9039-5134-407c-e733-30f2353464dd"
      },
      "source": [
        "print('accuracy:', f1_score(y_cv, predictions, average='macro'))"
      ],
      "execution_count": null,
      "outputs": [
        {
          "output_type": "stream",
          "text": [
            "accuracy: 0.9555992662977847\n"
          ],
          "name": "stdout"
        }
      ]
    },
    {
      "cell_type": "code",
      "metadata": {
        "id": "ITboIZaSe8o9",
        "colab": {
          "base_uri": "https://localhost:8080/",
          "height": 1000
        },
        "outputId": "f83f7752-27b3-440e-9a69-ba347df1e3d1"
      },
      "source": [
        "import seaborn as sns\n",
        "feature_imp = pd.DataFrame(sorted(zip(cat.feature_importances_, X.columns), reverse=True)[:50], \n",
        "                           columns=['Value','Feature'])\n",
        "plt.figure(figsize=(15,15))\n",
        "sns.barplot(x=\"Value\", y=\"Feature\", data=feature_imp.sort_values(by=\"Value\", ascending=False))\n",
        "plt.title('Catboost Features')\n",
        "plt.tight_layout()\n",
        "plt.show()"
      ],
      "execution_count": null,
      "outputs": [
        {
          "output_type": "display_data",
          "data": {
            "image/png": "[encoded data removed]",
            "text/plain": [
              "<Figure size 1080x1080 with 1 Axes>"
            ]
          },
          "metadata": {
            "tags": [],
            "needs_background": "light"
          }
        }
      ]
    },
    {
      "cell_type": "code",
      "metadata": {
        "id": "m2yby969fDo7"
      },
      "source": [
        "Xtest = test_df"
      ],
      "execution_count": null,
      "outputs": []
    },
    {
      "cell_type": "code",
      "metadata": {
        "id": "2XV3aa3bfK7P",
        "colab": {
          "base_uri": "https://localhost:8080/"
        },
        "outputId": "e37649ab-cbee-4962-ac7d-5c2f802ec9d3"
      },
      "source": [
        "from sklearn.model_selection import KFold\n",
        "\n",
        "errcat = []\n",
        "y_pred_totcat = []\n",
        "\n",
        "fold = KFold(n_splits=10, shuffle=True, random_state=101)\n",
        "\n",
        "for train_index, test_index in fold.split(X):\n",
        "    X_train, X_test = X.loc[train_index], X.loc[test_index]\n",
        "    y_train, y_test = y[train_index], y[test_index]\n",
        "    \n",
        "    cat = CatBoostClassifier(loss_function='MultiClass', \n",
        "                         eval_metric='TotalF1', \n",
        "                         classes_count=2,\n",
        "                         depth=10,\n",
        "                         random_seed=101, \n",
        "                         iterations=3500, \n",
        "                         learning_rate=0.1,\n",
        "                         leaf_estimation_iterations=1,\n",
        "                         l2_leaf_reg=1,\n",
        "                         bootstrap_type='Bayesian', \n",
        "                         bagging_temperature=0.9, \n",
        "                         random_strength=1,\n",
        "                         od_type='Iter', \n",
        "                         border_count=100,\n",
        "                         od_wait=500)\n",
        "    cat.fit(X_train, y_train, eval_set=[(X_test, y_test)], verbose=0, early_stopping_rounds=200, cat_features=categorical_features_indices)\n",
        "\n",
        "    y_pred_cat = cat.predict(X_test)\n",
        "    print(\"Accuracy: \", f1_score(y_test,y_pred_cat, average='macro'))\n",
        "\n",
        "    errcat.append(f1_score(y_test,y_pred_cat, average='macro'))\n",
        "    p = cat.predict(Xtest)\n",
        "    y_pred_totcat.append(p)"
      ],
      "execution_count": null,
      "outputs": [
        {
          "output_type": "stream",
          "text": [
            "Accuracy:  0.9530922431865829\n",
            "Accuracy:  0.9637850368809273\n",
            "Accuracy:  0.9431144067796611\n",
            "Accuracy:  0.9234373481092641\n",
            "Accuracy:  0.9490681462512449\n",
            "Accuracy:  0.9502044257112751\n",
            "Accuracy:  0.9466381517125173\n",
            "Accuracy:  0.9568133564948852\n",
            "Accuracy:  0.927548164363272\n",
            "Accuracy:  0.9508085622083624\n"
          ],
          "name": "stdout"
        }
      ]
    },
    {
      "cell_type": "code",
      "metadata": {
        "id": "7R6r80QSfX6j",
        "colab": {
          "base_uri": "https://localhost:8080/"
        },
        "outputId": "3a07a00d-ae8a-4735-d8d1-d467797c1ef3"
      },
      "source": [
        "np.mean(errcat,0)"
      ],
      "execution_count": null,
      "outputs": [
        {
          "output_type": "execute_result",
          "data": {
            "text/plain": [
              "0.9464509841697991"
            ]
          },
          "metadata": {
            "tags": []
          },
          "execution_count": 190
        }
      ]
    },
    {
      "cell_type": "code",
      "metadata": {
        "id": "vPpqkzKgfwDm",
        "colab": {
          "base_uri": "https://localhost:8080/"
        },
        "outputId": "51a6f676-46b3-4875-eaac-015175655b9b"
      },
      "source": [
        "cat_final = np.mean(y_pred_totcat,0).round().astype(int)\n",
        "cat_final"
      ],
      "execution_count": null,
      "outputs": [
        {
          "output_type": "execute_result",
          "data": {
            "text/plain": [
              "array([[0],\n",
              "       [0],\n",
              "       [0],\n",
              "       ...,\n",
              "       [0],\n",
              "       [0],\n",
              "       [1]])"
            ]
          },
          "metadata": {
            "tags": []
          },
          "execution_count": 191
        }
      ]
    },
    {
      "cell_type": "code",
      "metadata": {
        "id": "QiEEIBwWiAnW"
      },
      "source": [
        "xxx = pd.DataFrame(data=cat_final, columns=['customer_category'])"
      ],
      "execution_count": null,
      "outputs": []
    },
    {
      "cell_type": "code",
      "metadata": {
        "id": "TO34lc5NhAZ2",
        "colab": {
          "base_uri": "https://localhost:8080/"
        },
        "outputId": "689b62c7-4aaf-46b5-f522-5a5de0d2ec52"
      },
      "source": [
        "submission = pd.DataFrame({\n",
        "        \"customer_id\":re,\n",
        "        \"customer_category\": xxx['customer_category'],\n",
        "    })\n",
        "submission.to_csv('./submission.csv', index=False)\n",
        "print(submission)"
      ],
      "execution_count": null,
      "outputs": [
        {
          "output_type": "stream",
          "text": [
            "     customer_id  customer_category\n",
            "0     csid_10739                  0\n",
            "1     csid_10740                  0\n",
            "2     csid_10741                  0\n",
            "3     csid_10742                  0\n",
            "4     csid_10743                  0\n",
            "...          ...                ...\n",
            "7155  csid_17894                  0\n",
            "7156  csid_17895                  0\n",
            "7157  csid_17896                  0\n",
            "7158  csid_17897                  0\n",
            "7159  csid_17898                  1\n",
            "\n",
            "[7160 rows x 2 columns]\n"
          ],
          "name": "stdout"
        }
      ]
    },
    {
      "cell_type": "code",
      "metadata": {
        "id": "xRQy12UfhWvt",
        "colab": {
          "base_uri": "https://localhost:8080/",
          "height": 16
        },
        "outputId": "d3fa9a42-e4ee-404b-fa65-966e12b5bb69"
      },
      "source": [
        "from google.colab import files\n",
        "files.download('submission.csv')"
      ],
      "execution_count": null,
      "outputs": [
        {
          "output_type": "display_data",
          "data": {
            "application/javascript": [
              "\n",
              "    async function download(id, filename, size) {\n",
              "      if (!google.colab.kernel.accessAllowed) {\n",
              "        return;\n",
              "      }\n",
              "      const div = document.createElement('div');\n",
              "      const label = document.createElement('label');\n",
              "      label.textContent = `Downloading \"${filename}\": `;\n",
              "      div.appendChild(label);\n",
              "      const progress = document.createElement('progress');\n",
              "      progress.max = size;\n",
              "      div.appendChild(progress);\n",
              "      document.body.appendChild(div);\n",
              "\n",
              "      const buffers = [];\n",
              "      let downloaded = 0;\n",
              "\n",
              "      const channel = await google.colab.kernel.comms.open(id);\n",
              "      // Send a message to notify the kernel that we're ready.\n",
              "      channel.send({})\n",
              "\n",
              "      for await (const message of channel.messages) {\n",
              "        // Send a message to notify the kernel that we're ready.\n",
              "        channel.send({})\n",
              "        if (message.buffers) {\n",
              "          for (const buffer of message.buffers) {\n",
              "            buffers.push(buffer);\n",
              "            downloaded += buffer.byteLength;\n",
              "            progress.value = downloaded;\n",
              "          }\n",
              "        }\n",
              "      }\n",
              "      const blob = new Blob(buffers, {type: 'application/binary'});\n",
              "      const a = document.createElement('a');\n",
              "      a.href = window.URL.createObjectURL(blob);\n",
              "      a.download = filename;\n",
              "      div.appendChild(a);\n",
              "      a.click();\n",
              "      div.remove();\n",
              "    }\n",
              "  "
            ],
            "text/plain": [
              "<IPython.core.display.Javascript object>"
            ]
          },
          "metadata": {
            "tags": []
          }
        },
        {
          "output_type": "display_data",
          "data": {
            "application/javascript": [
              "download(\"download_0006fafc-fef8-457b-a2bf-f97c4956231c\", \"submission.csv\", 93110)"
            ],
            "text/plain": [
              "<IPython.core.display.Javascript object>"
            ]
          },
          "metadata": {
            "tags": []
          }
        }
      ]
    },
    {
      "cell_type": "markdown",
      "metadata": {
        "id": "BMe6nwZW-dqT"
      },
      "source": [
        "# f4"
      ]
    },
    {
      "cell_type": "code",
      "metadata": {
        "id": "2nT6Mitx-ukP"
      },
      "source": [
        "train_df=train.copy()\n",
        "test_df=test.copy()"
      ],
      "execution_count": null,
      "outputs": []
    },
    {
      "cell_type": "code",
      "metadata": {
        "colab": {
          "base_uri": "https://localhost:8080/"
        },
        "id": "qg1Ke5uPqFkP",
        "outputId": "1ce051b6-3f63-4e66-c2ae-c3411509825d"
      },
      "source": [
        "import pandas as pd\n",
        "import numpy as np\n",
        "import matplotlib.pyplot as plt\n",
        "%matplotlib inline\n",
        "import warnings\n",
        "warnings.simplefilter(action='ignore', category=FutureWarning)\n",
        "!pip install rfpimp\n",
        "!pip install catboost\n",
        "from sklearn.metrics import mean_absolute_error,accuracy_score\n",
        "import lightgbm as lgb\n",
        "from sklearn.linear_model import LinearRegression\n",
        "from sklearn.model_selection import StratifiedKFold,KFold,GridSearchCV,GroupKFold,train_test_split,StratifiedShuffleSplit\n",
        "from rfpimp import *\n",
        "from tqdm import tqdm\n",
        "from catboost import *\n",
        "from sklearn.neighbors import KNeighborsClassifier\n",
        "from xgboost import XGBClassifier\n",
        "from sklearn.preprocessing import LabelEncoder"
      ],
      "execution_count": null,
      "outputs": [
        {
          "output_type": "stream",
          "text": [
            "Collecting rfpimp\n",
            "  Downloading https://files.pythonhosted.org/packages/77/88/07a3c75ae8f1c9643d5ee72ca72f3ac5a48ab09d3eaad9a187fdc024d995/rfpimp-1.3.6.tar.gz\n",
            "Requirement already satisfied: numpy in /usr/local/lib/python3.6/dist-packages (from rfpimp) (1.18.5)\n",
            "Requirement already satisfied: pandas in /usr/local/lib/python3.6/dist-packages (from rfpimp) (1.1.4)\n",
            "Requirement already satisfied: scikit-learn in /usr/local/lib/python3.6/dist-packages (from rfpimp) (0.22.2.post1)\n",
            "Requirement already satisfied: matplotlib in /usr/local/lib/python3.6/dist-packages (from rfpimp) (3.2.2)\n",
            "Requirement already satisfied: pytz>=2017.2 in /usr/local/lib/python3.6/dist-packages (from pandas->rfpimp) (2018.9)\n",
            "Requirement already satisfied: python-dateutil>=2.7.3 in /usr/local/lib/python3.6/dist-packages (from pandas->rfpimp) (2.8.1)\n",
            "Requirement already satisfied: scipy>=0.17.0 in /usr/local/lib/python3.6/dist-packages (from scikit-learn->rfpimp) (1.4.1)\n",
            "Requirement already satisfied: joblib>=0.11 in /usr/local/lib/python3.6/dist-packages (from scikit-learn->rfpimp) (0.17.0)\n",
            "Requirement already satisfied: kiwisolver>=1.0.1 in /usr/local/lib/python3.6/dist-packages (from matplotlib->rfpimp) (1.3.1)\n",
            "Requirement already satisfied: cycler>=0.10 in /usr/local/lib/python3.6/dist-packages (from matplotlib->rfpimp) (0.10.0)\n",
            "Requirement already satisfied: pyparsing!=2.0.4,!=2.1.2,!=2.1.6,>=2.0.1 in /usr/local/lib/python3.6/dist-packages (from matplotlib->rfpimp) (2.4.7)\n",
            "Requirement already satisfied: six>=1.5 in /usr/local/lib/python3.6/dist-packages (from python-dateutil>=2.7.3->pandas->rfpimp) (1.15.0)\n",
            "Building wheels for collected packages: rfpimp\n",
            "  Building wheel for rfpimp (setup.py) ... \u001b[?25l\u001b[?25hdone\n",
            "  Created wheel for rfpimp: filename=rfpimp-1.3.6-cp36-none-any.whl size=10646 sha256=e67042490830b13320e0f8d912f3ca7c07e0e00c0c696f913115b2dc65b53b99\n",
            "  Stored in directory: /root/.cache/pip/wheels/4d/dc/d3/cf941c8f72eb5f1864506a1a6ddd689729063798292e539522\n",
            "Successfully built rfpimp\n",
            "Installing collected packages: rfpimp\n",
            "Successfully installed rfpimp-1.3.6\n",
            "Requirement already satisfied: catboost in /usr/local/lib/python3.6/dist-packages (0.24.3)\n",
            "Requirement already satisfied: graphviz in /usr/local/lib/python3.6/dist-packages (from catboost) (0.10.1)\n",
            "Requirement already satisfied: numpy>=1.16.0 in /usr/local/lib/python3.6/dist-packages (from catboost) (1.18.5)\n",
            "Requirement already satisfied: six in /usr/local/lib/python3.6/dist-packages (from catboost) (1.15.0)\n",
            "Requirement already satisfied: pandas>=0.24.0 in /usr/local/lib/python3.6/dist-packages (from catboost) (1.1.4)\n",
            "Requirement already satisfied: plotly in /usr/local/lib/python3.6/dist-packages (from catboost) (4.4.1)\n",
            "Requirement already satisfied: matplotlib in /usr/local/lib/python3.6/dist-packages (from catboost) (3.2.2)\n",
            "Requirement already satisfied: scipy in /usr/local/lib/python3.6/dist-packages (from catboost) (1.4.1)\n",
            "Requirement already satisfied: pytz>=2017.2 in /usr/local/lib/python3.6/dist-packages (from pandas>=0.24.0->catboost) (2018.9)\n",
            "Requirement already satisfied: python-dateutil>=2.7.3 in /usr/local/lib/python3.6/dist-packages (from pandas>=0.24.0->catboost) (2.8.1)\n",
            "Requirement already satisfied: retrying>=1.3.3 in /usr/local/lib/python3.6/dist-packages (from plotly->catboost) (1.3.3)\n",
            "Requirement already satisfied: pyparsing!=2.0.4,!=2.1.2,!=2.1.6,>=2.0.1 in /usr/local/lib/python3.6/dist-packages (from matplotlib->catboost) (2.4.7)\n",
            "Requirement already satisfied: kiwisolver>=1.0.1 in /usr/local/lib/python3.6/dist-packages (from matplotlib->catboost) (1.3.1)\n",
            "Requirement already satisfied: cycler>=0.10 in /usr/local/lib/python3.6/dist-packages (from matplotlib->catboost) (0.10.0)\n"
          ],
          "name": "stdout"
        }
      ]
    },
    {
      "cell_type": "code",
      "metadata": {
        "id": "Hs2iCSN0_zbt"
      },
      "source": [
        "df_train = train_df\n",
        "df_test = test_df"
      ],
      "execution_count": null,
      "outputs": []
    },
    {
      "cell_type": "code",
      "metadata": {
        "id": "kP1EprRx-cYM"
      },
      "source": [
        "X_train = train_df.drop(['customer_category'],axis=1)\n",
        "y_train = train_df['customer_category']"
      ],
      "execution_count": null,
      "outputs": []
    },
    {
      "cell_type": "code",
      "metadata": {
        "id": "gS_o62s_AN4i",
        "colab": {
          "base_uri": "https://localhost:8080/"
        },
        "outputId": "5e4ba25e-eaca-482a-a714-8035cfdc1739"
      },
      "source": [
        "x=[]\n",
        "for i in test_df.columns:\n",
        "  x.append(i)\n",
        "x=np.array(x)\n",
        "x"
      ],
      "execution_count": null,
      "outputs": [
        {
          "output_type": "execute_result",
          "data": {
            "text/plain": [
              "array(['customer_visit_score', 'customer_product_search_score',\n",
              "       'customer_ctr_score', 'customer_stay_score',\n",
              "       'customer_frequency_score', 'customer_product_variation_score',\n",
              "       'customer_order_score', 'customer_affinity_score', 'extraa_score',\n",
              "       'customer_active_segment_A', 'customer_active_segment_AA',\n",
              "       'customer_active_segment_B', 'customer_active_segment_C',\n",
              "       'customer_active_segment_D', 'X1_A', 'X1_AA', 'X1_BA', 'X1_E',\n",
              "       'X1_F'], dtype='<U32')"
            ]
          },
          "metadata": {
            "tags": []
          },
          "execution_count": 149
        }
      ]
    },
    {
      "cell_type": "code",
      "metadata": {
        "id": "etEL1SvbcIR3"
      },
      "source": [
        "feats=['customer_visit_score', 'customer_product_search_score',\n",
        "       'customer_ctr_score', 'customer_stay_score',\n",
        "       'customer_frequency_score', 'customer_product_variation_score',\n",
        "       'customer_order_score', 'customer_affinity_score', 'extraa_score',\n",
        "       'customer_active_segment_A', 'customer_active_segment_AA',\n",
        "       'customer_active_segment_B', 'customer_active_segment_C',\n",
        "       'customer_active_segment_D', 'X1_A', 'X1_AA', 'X1_BA', 'X1_E',\n",
        "       'X1_F']"
      ],
      "execution_count": null,
      "outputs": []
    },
    {
      "cell_type": "code",
      "metadata": {
        "id": "jIhcNsZW-2hT",
        "colab": {
          "base_uri": "https://localhost:8080/"
        },
        "outputId": "382579a0-018d-4fbc-bacc-c3247d427265"
      },
      "source": [
        "splits = 15\n",
        "folds =StratifiedKFold(n_splits=splits, random_state=42,shuffle=True)\n",
        "oof_preds = np.zeros((len(df_test), 2))\n",
        "feature_importance_df = pd.DataFrame()\n",
        "feature_importance_df['Feature'] = X_train.columns\n",
        "final_preds = []\n",
        "random_state = [22,44,66,77,88,99,101]\n",
        "counter = 0\n",
        "\n",
        "for fold_, (trn_idx, val_idx) in enumerate(folds.split(X_train.values,y_train)):\n",
        "        print(\"iter_ {}\".format(fold_))\n",
        "        X_trn,y_trn = X_train[feats].iloc[trn_idx],y_train.iloc[trn_idx]\n",
        "        X_val,y_val = X_train[feats].iloc[val_idx],y_train.iloc[val_idx]\n",
        "        clf = lgb.LGBMClassifier(boosting='gbdt',learning_rate=0.1, n_estimators=1000, random_state=101, subsample=0.9,max_depth=-1,num_leaves=31)#\n",
        "         #,\n",
        "         #min_data_in_leaf=11,\n",
        "         #bagging_fraction=0.90,\n",
        "         #bagging_freq=2,\n",
        "         #bagging_seed=3,\n",
        "         #feature_fraction=0.90,\n",
        "         #feature_fraction_seed=2,\n",
        "         #early_stopping_round=200,\n",
        "         #max_bin=1000)#(n_estimators=1000,max_depth=4,random_state=42)#dart\n",
        "        clf.fit(X_trn, y_trn,eval_set=[(X_trn, y_trn), (X_val, y_val)],verbose=0,\n",
        "                eval_metric='multi_error',early_stopping_rounds=100)\n",
        "        \n",
        "        imp = importances(clf,X_val,y_val)\n",
        "        imp.rename(columns={'Importance':f'Importance_{fold_}'},inplace=True)\n",
        "        feature_importance_df = pd.merge(feature_importance_df,imp,on='Feature')\n",
        "        final_preds.append(accuracy_score(y_pred=clf.predict(X_val),y_true=y_val))\n",
        "        \n",
        "        oof_preds += clf.predict_proba(df_test[feats])\n",
        "oof_preds = oof_preds/splits\n",
        "print(sum(final_preds)/splits)"
      ],
      "execution_count": null,
      "outputs": [
        {
          "output_type": "stream",
          "text": [
            "iter_ 0\n",
            "iter_ 1\n",
            "iter_ 2\n",
            "iter_ 3\n",
            "iter_ 4\n",
            "iter_ 5\n",
            "iter_ 6\n",
            "iter_ 7\n",
            "iter_ 8\n",
            "iter_ 9\n",
            "iter_ 10\n",
            "iter_ 11\n",
            "iter_ 12\n",
            "iter_ 13\n",
            "iter_ 14\n",
            "0.9769979554895756\n"
          ],
          "name": "stdout"
        }
      ]
    },
    {
      "cell_type": "code",
      "metadata": {
        "id": "DxpuDm1w-9AB"
      },
      "source": [
        "preds_x = [np.argmax(x) for x in oof_preds]"
      ],
      "execution_count": null,
      "outputs": []
    },
    {
      "cell_type": "code",
      "metadata": {
        "id": "Rns_cVS8Iqr9",
        "colab": {
          "base_uri": "https://localhost:8080/"
        },
        "outputId": "cbcf05bc-015b-445e-8553-0bf90430ec2f"
      },
      "source": [
        "submission = pd.DataFrame({\n",
        "        \"customer_id\":re,\n",
        "        \"customer_category\": preds_x\n",
        "    })\n",
        "submission.to_csv('./submission.csv', index=False)\n",
        "print(submission)"
      ],
      "execution_count": null,
      "outputs": [
        {
          "output_type": "stream",
          "text": [
            "     customer_id  customer_category\n",
            "0     csid_10739                  0\n",
            "1     csid_10740                  0\n",
            "2     csid_10741                  0\n",
            "3     csid_10742                  0\n",
            "4     csid_10743                  0\n",
            "...          ...                ...\n",
            "7155  csid_17894                  0\n",
            "7156  csid_17895                  0\n",
            "7157  csid_17896                  0\n",
            "7158  csid_17897                  0\n",
            "7159  csid_17898                  1\n",
            "\n",
            "[7160 rows x 2 columns]\n"
          ],
          "name": "stdout"
        }
      ]
    },
    {
      "cell_type": "code",
      "metadata": {
        "id": "LUcdf5ih-0O2",
        "colab": {
          "base_uri": "https://localhost:8080/",
          "height": 16
        },
        "outputId": "7a450b71-1618-4cca-ce5f-1002aa2885ca"
      },
      "source": [
        "from google.colab import files\n",
        "files.download('submission.csv')"
      ],
      "execution_count": null,
      "outputs": [
        {
          "output_type": "display_data",
          "data": {
            "application/javascript": [
              "\n",
              "    async function download(id, filename, size) {\n",
              "      if (!google.colab.kernel.accessAllowed) {\n",
              "        return;\n",
              "      }\n",
              "      const div = document.createElement('div');\n",
              "      const label = document.createElement('label');\n",
              "      label.textContent = `Downloading \"${filename}\": `;\n",
              "      div.appendChild(label);\n",
              "      const progress = document.createElement('progress');\n",
              "      progress.max = size;\n",
              "      div.appendChild(progress);\n",
              "      document.body.appendChild(div);\n",
              "\n",
              "      const buffers = [];\n",
              "      let downloaded = 0;\n",
              "\n",
              "      const channel = await google.colab.kernel.comms.open(id);\n",
              "      // Send a message to notify the kernel that we're ready.\n",
              "      channel.send({})\n",
              "\n",
              "      for await (const message of channel.messages) {\n",
              "        // Send a message to notify the kernel that we're ready.\n",
              "        channel.send({})\n",
              "        if (message.buffers) {\n",
              "          for (const buffer of message.buffers) {\n",
              "            buffers.push(buffer);\n",
              "            downloaded += buffer.byteLength;\n",
              "            progress.value = downloaded;\n",
              "          }\n",
              "        }\n",
              "      }\n",
              "      const blob = new Blob(buffers, {type: 'application/binary'});\n",
              "      const a = document.createElement('a');\n",
              "      a.href = window.URL.createObjectURL(blob);\n",
              "      a.download = filename;\n",
              "      div.appendChild(a);\n",
              "      a.click();\n",
              "      div.remove();\n",
              "    }\n",
              "  "
            ],
            "text/plain": [
              "<IPython.core.display.Javascript object>"
            ]
          },
          "metadata": {
            "tags": []
          }
        },
        {
          "output_type": "display_data",
          "data": {
            "application/javascript": [
              "download(\"download_07a2bef5-0339-455c-a4a2-9895861ff9a2\", \"submission.csv\", 93110)"
            ],
            "text/plain": [
              "<IPython.core.display.Javascript object>"
            ]
          },
          "metadata": {
            "tags": []
          }
        }
      ]
    }
  ]
}