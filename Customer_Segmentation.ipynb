{
 "cells": [
  {
   "cell_type": "code",
   "execution_count": 1,
   "metadata": {
    "colab": {},
    "colab_type": "code",
    "id": "x4nDFTuktela"
   },
   "outputs": [],
   "source": [
    "import pandas as pd\n",
    "import numpy as np\n",
    "import matplotlib.pyplot as plt\n",
    "%matplotlib inline"
   ]
  },
  {
   "cell_type": "code",
   "execution_count": 2,
   "metadata": {},
   "outputs": [],
   "source": [
    "import os\n",
    "os.chdir(r'D:\\hackathons\\AnalyticsVidhya Janatahack Customer Segmentation')"
   ]
  },
  {
   "cell_type": "code",
   "execution_count": 3,
   "metadata": {
    "colab": {},
    "colab_type": "code",
    "id": "n79PrHkFti56"
   },
   "outputs": [],
   "source": [
    "train = pd.read_csv('Train_aBjfeNk.csv')\n",
    "test = pd.read_csv('Test_LqhgPWU.csv')"
   ]
  },
  {
   "cell_type": "markdown",
   "metadata": {
    "colab_type": "text",
    "id": "66zd_5tL8pW2"
   },
   "source": [
    "# Preprocessing"
   ]
  },
  {
   "cell_type": "code",
   "execution_count": 4,
   "metadata": {
    "colab": {
     "base_uri": "https://localhost:8080/",
     "height": 190
    },
    "colab_type": "code",
    "id": "W8kiWT-hN1mD",
    "outputId": "ea6f27f0-0746-44ca-e728-76edd4208430"
   },
   "outputs": [
    {
     "data": {
      "text/html": [
       "<div>\n",
       "<style scoped>\n",
       "    .dataframe tbody tr th:only-of-type {\n",
       "        vertical-align: middle;\n",
       "    }\n",
       "\n",
       "    .dataframe tbody tr th {\n",
       "        vertical-align: top;\n",
       "    }\n",
       "\n",
       "    .dataframe thead th {\n",
       "        text-align: right;\n",
       "    }\n",
       "</style>\n",
       "<table border=\"1\" class=\"dataframe\">\n",
       "  <thead>\n",
       "    <tr style=\"text-align: right;\">\n",
       "      <th></th>\n",
       "      <th>ID</th>\n",
       "      <th>Gender</th>\n",
       "      <th>Ever_Married</th>\n",
       "      <th>Age</th>\n",
       "      <th>Graduated</th>\n",
       "      <th>Profession</th>\n",
       "      <th>Work_Experience</th>\n",
       "      <th>Spending_Score</th>\n",
       "      <th>Family_Size</th>\n",
       "      <th>Var_1</th>\n",
       "      <th>Segmentation</th>\n",
       "    </tr>\n",
       "  </thead>\n",
       "  <tbody>\n",
       "    <tr>\n",
       "      <th>0</th>\n",
       "      <td>462809</td>\n",
       "      <td>Male</td>\n",
       "      <td>No</td>\n",
       "      <td>22</td>\n",
       "      <td>No</td>\n",
       "      <td>Healthcare</td>\n",
       "      <td>1.0</td>\n",
       "      <td>Low</td>\n",
       "      <td>4.0</td>\n",
       "      <td>Cat_4</td>\n",
       "      <td>D</td>\n",
       "    </tr>\n",
       "    <tr>\n",
       "      <th>1</th>\n",
       "      <td>462643</td>\n",
       "      <td>Female</td>\n",
       "      <td>Yes</td>\n",
       "      <td>38</td>\n",
       "      <td>Yes</td>\n",
       "      <td>Engineer</td>\n",
       "      <td>NaN</td>\n",
       "      <td>Average</td>\n",
       "      <td>3.0</td>\n",
       "      <td>Cat_4</td>\n",
       "      <td>A</td>\n",
       "    </tr>\n",
       "    <tr>\n",
       "      <th>2</th>\n",
       "      <td>466315</td>\n",
       "      <td>Female</td>\n",
       "      <td>Yes</td>\n",
       "      <td>67</td>\n",
       "      <td>Yes</td>\n",
       "      <td>Engineer</td>\n",
       "      <td>1.0</td>\n",
       "      <td>Low</td>\n",
       "      <td>1.0</td>\n",
       "      <td>Cat_6</td>\n",
       "      <td>B</td>\n",
       "    </tr>\n",
       "  </tbody>\n",
       "</table>\n",
       "</div>"
      ],
      "text/plain": [
       "       ID  Gender Ever_Married  Age Graduated  Profession  Work_Experience  \\\n",
       "0  462809    Male           No   22        No  Healthcare              1.0   \n",
       "1  462643  Female          Yes   38       Yes    Engineer              NaN   \n",
       "2  466315  Female          Yes   67       Yes    Engineer              1.0   \n",
       "\n",
       "  Spending_Score  Family_Size  Var_1 Segmentation  \n",
       "0            Low          4.0  Cat_4            D  \n",
       "1        Average          3.0  Cat_4            A  \n",
       "2            Low          1.0  Cat_6            B  "
      ]
     },
     "execution_count": 4,
     "metadata": {},
     "output_type": "execute_result"
    }
   ],
   "source": [
    "train.head(3)"
   ]
  },
  {
   "cell_type": "code",
   "execution_count": 5,
   "metadata": {
    "colab": {
     "base_uri": "https://localhost:8080/",
     "height": 190
    },
    "colab_type": "code",
    "id": "7kirifXnN1lO",
    "outputId": "c2e510f1-1396-4271-dac5-3bced32d9825"
   },
   "outputs": [
    {
     "data": {
      "text/html": [
       "<div>\n",
       "<style scoped>\n",
       "    .dataframe tbody tr th:only-of-type {\n",
       "        vertical-align: middle;\n",
       "    }\n",
       "\n",
       "    .dataframe tbody tr th {\n",
       "        vertical-align: top;\n",
       "    }\n",
       "\n",
       "    .dataframe thead th {\n",
       "        text-align: right;\n",
       "    }\n",
       "</style>\n",
       "<table border=\"1\" class=\"dataframe\">\n",
       "  <thead>\n",
       "    <tr style=\"text-align: right;\">\n",
       "      <th></th>\n",
       "      <th>ID</th>\n",
       "      <th>Gender</th>\n",
       "      <th>Ever_Married</th>\n",
       "      <th>Age</th>\n",
       "      <th>Graduated</th>\n",
       "      <th>Profession</th>\n",
       "      <th>Work_Experience</th>\n",
       "      <th>Spending_Score</th>\n",
       "      <th>Family_Size</th>\n",
       "      <th>Var_1</th>\n",
       "    </tr>\n",
       "  </thead>\n",
       "  <tbody>\n",
       "    <tr>\n",
       "      <th>0</th>\n",
       "      <td>458989</td>\n",
       "      <td>Female</td>\n",
       "      <td>Yes</td>\n",
       "      <td>36</td>\n",
       "      <td>Yes</td>\n",
       "      <td>Engineer</td>\n",
       "      <td>0.0</td>\n",
       "      <td>Low</td>\n",
       "      <td>1.0</td>\n",
       "      <td>Cat_6</td>\n",
       "    </tr>\n",
       "    <tr>\n",
       "      <th>1</th>\n",
       "      <td>458994</td>\n",
       "      <td>Male</td>\n",
       "      <td>Yes</td>\n",
       "      <td>37</td>\n",
       "      <td>Yes</td>\n",
       "      <td>Healthcare</td>\n",
       "      <td>8.0</td>\n",
       "      <td>Average</td>\n",
       "      <td>4.0</td>\n",
       "      <td>Cat_6</td>\n",
       "    </tr>\n",
       "    <tr>\n",
       "      <th>2</th>\n",
       "      <td>458996</td>\n",
       "      <td>Female</td>\n",
       "      <td>Yes</td>\n",
       "      <td>69</td>\n",
       "      <td>No</td>\n",
       "      <td>NaN</td>\n",
       "      <td>0.0</td>\n",
       "      <td>Low</td>\n",
       "      <td>1.0</td>\n",
       "      <td>Cat_6</td>\n",
       "    </tr>\n",
       "  </tbody>\n",
       "</table>\n",
       "</div>"
      ],
      "text/plain": [
       "       ID  Gender Ever_Married  Age Graduated  Profession  Work_Experience  \\\n",
       "0  458989  Female          Yes   36       Yes    Engineer              0.0   \n",
       "1  458994    Male          Yes   37       Yes  Healthcare              8.0   \n",
       "2  458996  Female          Yes   69        No         NaN              0.0   \n",
       "\n",
       "  Spending_Score  Family_Size  Var_1  \n",
       "0            Low          1.0  Cat_6  \n",
       "1        Average          4.0  Cat_6  \n",
       "2            Low          1.0  Cat_6  "
      ]
     },
     "execution_count": 5,
     "metadata": {},
     "output_type": "execute_result"
    }
   ],
   "source": [
    "test.head(3)"
   ]
  },
  {
   "cell_type": "code",
   "execution_count": 6,
   "metadata": {
    "colab": {
     "base_uri": "https://localhost:8080/",
     "height": 571
    },
    "colab_type": "code",
    "id": "Ozidtg3ft-qi",
    "outputId": "213b6744-878a-47e1-e982-084437c7076a"
   },
   "outputs": [
    {
     "data": {
      "text/plain": [
       "((8068, 11),\n",
       " ID                   0\n",
       " Gender               0\n",
       " Ever_Married       140\n",
       " Age                  0\n",
       " Graduated           78\n",
       " Profession         124\n",
       " Work_Experience    829\n",
       " Spending_Score       0\n",
       " Family_Size        335\n",
       " Var_1               76\n",
       " Segmentation         0\n",
       " dtype: int64,\n",
       " ID                   int64\n",
       " Gender              object\n",
       " Ever_Married        object\n",
       " Age                  int64\n",
       " Graduated           object\n",
       " Profession          object\n",
       " Work_Experience    float64\n",
       " Spending_Score      object\n",
       " Family_Size        float64\n",
       " Var_1               object\n",
       " Segmentation        object\n",
       " dtype: object)"
      ]
     },
     "execution_count": 6,
     "metadata": {},
     "output_type": "execute_result"
    }
   ],
   "source": [
    "train.shape, train.isnull().sum(),train.dtypes"
   ]
  },
  {
   "cell_type": "code",
   "execution_count": 7,
   "metadata": {},
   "outputs": [
    {
     "data": {
      "text/plain": [
       "((2627, 10),\n",
       " ID                   0\n",
       " Gender               0\n",
       " Ever_Married        50\n",
       " Age                  0\n",
       " Graduated           24\n",
       " Profession          38\n",
       " Work_Experience    269\n",
       " Spending_Score       0\n",
       " Family_Size        113\n",
       " Var_1               32\n",
       " dtype: int64)"
      ]
     },
     "execution_count": 7,
     "metadata": {},
     "output_type": "execute_result"
    }
   ],
   "source": [
    "test.shape, test.isnull().sum() "
   ]
  },
  {
   "cell_type": "code",
   "execution_count": 8,
   "metadata": {
    "colab": {},
    "colab_type": "code",
    "id": "lWQiCtrnMbtn"
   },
   "outputs": [],
   "source": [
    "df=train.append(test,ignore_index=True)"
   ]
  },
  {
   "cell_type": "code",
   "execution_count": 9,
   "metadata": {
    "colab": {},
    "colab_type": "code",
    "id": "EhcX44ZuQPWd"
   },
   "outputs": [],
   "source": [
    "k=['Ever_Married','Graduated']\n",
    "for i in k:\n",
    "    df[i]=df[i].fillna('Random')"
   ]
  },
  {
   "cell_type": "code",
   "execution_count": 10,
   "metadata": {
    "colab": {},
    "colab_type": "code",
    "id": "0Xr8UxFYRLuF"
   },
   "outputs": [],
   "source": [
    "i=['Profession','Work_Experience','Family_Size','Var_1']\n",
    "for x in i:\n",
    "    df[x]=df[x].fillna(method='bfill')"
   ]
  },
  {
   "cell_type": "code",
   "execution_count": 11,
   "metadata": {
    "colab": {
     "base_uri": "https://localhost:8080/",
     "height": 218
    },
    "colab_type": "code",
    "id": "PcD1OibwSLW6",
    "outputId": "8d75c5f0-a228-48b1-fe98-fb2d147e319c"
   },
   "outputs": [
    {
     "data": {
      "text/plain": [
       "ID                 8363\n",
       "Gender                2\n",
       "Ever_Married          3\n",
       "Age                  67\n",
       "Graduated             3\n",
       "Profession            9\n",
       "Work_Experience      15\n",
       "Spending_Score        3\n",
       "Family_Size           9\n",
       "Var_1                 7\n",
       "Segmentation          4\n",
       "dtype: int64"
      ]
     },
     "execution_count": 11,
     "metadata": {},
     "output_type": "execute_result"
    }
   ],
   "source": [
    "df.nunique()"
   ]
  },
  {
   "cell_type": "code",
   "execution_count": 12,
   "metadata": {
    "colab": {},
    "colab_type": "code",
    "id": "g-4b8rEIR5gu"
   },
   "outputs": [],
   "source": [
    "df = pd.get_dummies(df, columns=['Ever_Married','Graduated','Profession','Spending_Score','Gender','Family_Size','Var_1'])"
   ]
  },
  {
   "cell_type": "code",
   "execution_count": 13,
   "metadata": {
    "colab": {},
    "colab_type": "code",
    "id": "M24iTpikSt1a"
   },
   "outputs": [],
   "source": [
    "train = df[df['Segmentation'].isnull()==False]\n",
    "test = df[df['Segmentation'].isnull()==True]"
   ]
  },
  {
   "cell_type": "code",
   "execution_count": 14,
   "metadata": {
    "colab": {},
    "colab_type": "code",
    "id": "ZFeu6I5-S4Yu"
   },
   "outputs": [],
   "source": [
    "del test['Segmentation']"
   ]
  },
  {
   "cell_type": "markdown",
   "metadata": {
    "colab_type": "text",
    "id": "rGXZ-Sd58X3q"
   },
   "source": [
    "# Modelling"
   ]
  },
  {
   "cell_type": "code",
   "execution_count": 15,
   "metadata": {
    "colab": {
     "base_uri": "https://localhost:8080/",
     "height": 319
    },
    "colab_type": "code",
    "id": "gJmdtNUUDY44",
    "outputId": "8d1b08c0-4c6a-40db-d34c-d4d44f02b096"
   },
   "outputs": [],
   "source": [
    "from math import sqrt \n",
    "from sklearn.metrics import f1_score"
   ]
  },
  {
   "cell_type": "code",
   "execution_count": 16,
   "metadata": {
    "colab": {},
    "colab_type": "code",
    "id": "zH5IEF15iji_"
   },
   "outputs": [],
   "source": [
    "train_df=train.copy()\n",
    "test_df=test.copy()"
   ]
  },
  {
   "cell_type": "code",
   "execution_count": 17,
   "metadata": {
    "colab": {
     "base_uri": "https://localhost:8080/",
     "height": 33
    },
    "colab_type": "code",
    "id": "5z3XlxC1USWX",
    "outputId": "27a3f322-3a2e-45c8-82a5-e9845f0b9bee"
   },
   "outputs": [
    {
     "data": {
      "text/plain": [
       "array(['A', 'B', 'C', 'D'], dtype=object)"
      ]
     },
     "execution_count": 17,
     "metadata": {},
     "output_type": "execute_result"
    }
   ],
   "source": [
    "from sklearn.preprocessing import LabelEncoder\n",
    "le = LabelEncoder()\n",
    "train_df['Segmentation'] = le.fit_transform(train_df['Segmentation'])\n",
    "le.classes_"
   ]
  },
  {
   "cell_type": "code",
   "execution_count": 18,
   "metadata": {
    "colab": {},
    "colab_type": "code",
    "id": "o0SFjyilWPos"
   },
   "outputs": [],
   "source": [
    "X = train_df.drop(labels=['Segmentation'], axis=1)\n",
    "y = train_df['Segmentation'].values\n",
    "\n",
    "from sklearn.model_selection import train_test_split\n",
    "X_train, X_cv, y_train, y_cv = train_test_split(X, y, test_size=0.10, random_state=101)"
   ]
  },
  {
   "cell_type": "code",
   "execution_count": 19,
   "metadata": {
    "colab": {
     "base_uri": "https://localhost:8080/",
     "height": 33
    },
    "colab_type": "code",
    "id": "wXjawL8CWPiE",
    "outputId": "82e28fcb-1454-4bef-8283-d4a7f44cfee0"
   },
   "outputs": [
    {
     "data": {
      "text/plain": [
       "((7261, 39), (7261,), (807, 39), (807,))"
      ]
     },
     "execution_count": 19,
     "metadata": {},
     "output_type": "execute_result"
    }
   ],
   "source": [
    "X_train.shape, y_train.shape, X_cv.shape, y_cv.shape"
   ]
  },
  {
   "cell_type": "code",
   "execution_count": 20,
   "metadata": {
    "colab": {},
    "colab_type": "code",
    "id": "25L1oDtkUcsP"
   },
   "outputs": [],
   "source": [
    "from math import sqrt \n",
    "from sklearn.metrics import accuracy_score"
   ]
  },
  {
   "cell_type": "code",
   "execution_count": 21,
   "metadata": {
    "colab": {
     "base_uri": "https://localhost:8080/",
     "height": 33
    },
    "colab_type": "code",
    "id": "WIcwOjxfeXkv",
    "outputId": "c7913148-5599-4d67-b6e5-86398be86471"
   },
   "outputs": [
    {
     "data": {
      "text/plain": [
       "array([], dtype=int64)"
      ]
     },
     "execution_count": 21,
     "metadata": {},
     "output_type": "execute_result"
    }
   ],
   "source": [
    "categorical_features_indices = np.where(X_train.dtypes == 'category')[0]\n",
    "categorical_features_indices"
   ]
  },
  {
   "cell_type": "code",
   "execution_count": 22,
   "metadata": {
    "colab": {
     "base_uri": "https://localhost:8080/",
     "height": 1000
    },
    "colab_type": "code",
    "id": "AEOxyYfmdoi9",
    "outputId": "7678e831-f3c8-483e-c46b-06bca4168718"
   },
   "outputs": [
    {
     "name": "stdout",
     "output_type": "stream",
     "text": [
      "0:\tlearn: 0.4577882\ttest: 0.4577882\ttest1: 0.4584882\tbest: 0.4584882 (0)\ttotal: 171ms\tremaining: 14m 16s\n",
      "50:\tlearn: 0.5327090\ttest: 0.5327090\ttest1: 0.5179678\tbest: 0.5179678 (44)\ttotal: 614ms\tremaining: 59.6s\n",
      "100:\tlearn: 0.5400083\ttest: 0.5400083\ttest1: 0.5315985\tbest: 0.5315985 (99)\ttotal: 921ms\tremaining: 44.7s\n",
      "150:\tlearn: 0.5499243\ttest: 0.5499243\ttest1: 0.5353160\tbest: 0.5390335 (135)\ttotal: 1.31s\tremaining: 42.2s\n",
      "200:\tlearn: 0.5541936\ttest: 0.5541936\ttest1: 0.5377943\tbest: 0.5402726 (187)\ttotal: 1.65s\tremaining: 39.4s\n",
      "250:\tlearn: 0.5592894\ttest: 0.5592894\ttest1: 0.5328377\tbest: 0.5402726 (187)\ttotal: 1.99s\tremaining: 37.6s\n",
      "300:\tlearn: 0.5619061\ttest: 0.5619061\ttest1: 0.5328377\tbest: 0.5402726 (187)\ttotal: 2.35s\tremaining: 36.7s\n",
      "350:\tlearn: 0.5642473\ttest: 0.5642473\ttest1: 0.5353160\tbest: 0.5402726 (187)\ttotal: 2.67s\tremaining: 35.4s\n",
      "400:\tlearn: 0.5664509\ttest: 0.5664509\ttest1: 0.5415118\tbest: 0.5427509 (383)\ttotal: 3.01s\tremaining: 34.5s\n",
      "450:\tlearn: 0.5694808\ttest: 0.5694808\ttest1: 0.5427509\tbest: 0.5452292 (421)\ttotal: 3.4s\tremaining: 34.3s\n",
      "500:\tlearn: 0.5740256\ttest: 0.5740256\ttest1: 0.5452292\tbest: 0.5452292 (421)\ttotal: 3.71s\tremaining: 33.3s\n",
      "550:\tlearn: 0.5763669\ttest: 0.5763669\ttest1: 0.5452292\tbest: 0.5501859 (544)\ttotal: 4.05s\tremaining: 32.7s\n",
      "600:\tlearn: 0.5792591\ttest: 0.5792591\ttest1: 0.5526642\tbest: 0.5526642 (600)\ttotal: 4.39s\tremaining: 32.1s\n",
      "650:\tlearn: 0.5831153\ttest: 0.5831153\ttest1: 0.5489467\tbest: 0.5539033 (615)\ttotal: 4.75s\tremaining: 31.7s\n",
      "700:\tlearn: 0.5847679\ttest: 0.5847679\ttest1: 0.5464684\tbest: 0.5539033 (615)\ttotal: 5.14s\tremaining: 31.5s\n",
      "750:\tlearn: 0.5879355\ttest: 0.5879355\ttest1: 0.5477076\tbest: 0.5539033 (615)\ttotal: 5.53s\tremaining: 31.3s\n",
      "800:\tlearn: 0.5900014\ttest: 0.5900014\ttest1: 0.5477076\tbest: 0.5539033 (615)\ttotal: 5.96s\tremaining: 31.2s\n",
      "850:\tlearn: 0.5923427\ttest: 0.5923427\ttest1: 0.5464684\tbest: 0.5539033 (615)\ttotal: 6.37s\tremaining: 31.1s\n",
      "900:\tlearn: 0.5944085\ttest: 0.5944085\ttest1: 0.5464684\tbest: 0.5539033 (615)\ttotal: 6.72s\tremaining: 30.6s\n",
      "950:\tlearn: 0.5971629\ttest: 0.5971629\ttest1: 0.5501859\tbest: 0.5539033 (615)\ttotal: 7.05s\tremaining: 30s\n",
      "1000:\tlearn: 0.5999174\ttest: 0.5999174\ttest1: 0.5514250\tbest: 0.5539033 (615)\ttotal: 7.55s\tremaining: 30.2s\n",
      "1050:\tlearn: 0.6015700\ttest: 0.6015700\ttest1: 0.5526642\tbest: 0.5539033 (615)\ttotal: 7.95s\tremaining: 29.9s\n",
      "1100:\tlearn: 0.6039113\ttest: 0.6039113\ttest1: 0.5526642\tbest: 0.5539033 (615)\ttotal: 8.29s\tremaining: 29.4s\n",
      "1150:\tlearn: 0.6057017\ttest: 0.6057017\ttest1: 0.5514250\tbest: 0.5539033 (615)\ttotal: 8.64s\tremaining: 28.9s\n",
      "1200:\tlearn: 0.6077675\ttest: 0.6077675\ttest1: 0.5539033\tbest: 0.5539033 (615)\ttotal: 8.99s\tremaining: 28.4s\n",
      "1250:\tlearn: 0.6103842\ttest: 0.6103842\ttest1: 0.5526642\tbest: 0.5563817 (1221)\ttotal: 9.36s\tremaining: 28s\n",
      "1300:\tlearn: 0.6107974\ttest: 0.6107974\ttest1: 0.5539033\tbest: 0.5563817 (1221)\ttotal: 9.7s\tremaining: 27.6s\n",
      "1350:\tlearn: 0.6142405\ttest: 0.6142405\ttest1: 0.5539033\tbest: 0.5563817 (1221)\ttotal: 10s\tremaining: 27.1s\n",
      "1400:\tlearn: 0.6142405\ttest: 0.6142405\ttest1: 0.5501859\tbest: 0.5563817 (1221)\ttotal: 10.4s\tremaining: 26.8s\n",
      "1450:\tlearn: 0.6157554\ttest: 0.6157554\ttest1: 0.5489467\tbest: 0.5563817 (1221)\ttotal: 10.9s\tremaining: 26.7s\n",
      "1500:\tlearn: 0.6175458\ttest: 0.6175458\ttest1: 0.5489467\tbest: 0.5563817 (1221)\ttotal: 11.4s\tremaining: 26.6s\n",
      "1550:\tlearn: 0.6180967\ttest: 0.6180967\ttest1: 0.5464684\tbest: 0.5563817 (1221)\ttotal: 11.7s\tremaining: 26s\n",
      "1600:\tlearn: 0.6203002\ttest: 0.6203002\ttest1: 0.5427509\tbest: 0.5563817 (1221)\ttotal: 12.1s\tremaining: 25.7s\n",
      "1650:\tlearn: 0.6240187\ttest: 0.6240187\ttest1: 0.5452292\tbest: 0.5563817 (1221)\ttotal: 12.5s\tremaining: 25.4s\n",
      "1700:\tlearn: 0.6247073\ttest: 0.6247073\ttest1: 0.5439901\tbest: 0.5563817 (1221)\ttotal: 12.8s\tremaining: 24.9s\n",
      "1750:\tlearn: 0.6273241\ttest: 0.6273241\ttest1: 0.5439901\tbest: 0.5563817 (1221)\ttotal: 13.1s\tremaining: 24.4s\n",
      "1800:\tlearn: 0.6292522\ttest: 0.6292522\ttest1: 0.5427509\tbest: 0.5563817 (1221)\ttotal: 13.5s\tremaining: 24s\n",
      "1850:\tlearn: 0.6311803\ttest: 0.6311803\ttest1: 0.5427509\tbest: 0.5563817 (1221)\ttotal: 13.8s\tremaining: 23.5s\n",
      "1900:\tlearn: 0.6315934\ttest: 0.6315934\ttest1: 0.5452292\tbest: 0.5563817 (1221)\ttotal: 14.1s\tremaining: 23s\n",
      "1950:\tlearn: 0.6328329\ttest: 0.6328329\ttest1: 0.5439901\tbest: 0.5563817 (1221)\ttotal: 14.4s\tremaining: 22.6s\n",
      "2000:\tlearn: 0.6355874\ttest: 0.6355874\ttest1: 0.5415118\tbest: 0.5563817 (1221)\ttotal: 14.8s\tremaining: 22.1s\n",
      "2050:\tlearn: 0.6377909\ttest: 0.6377909\ttest1: 0.5427509\tbest: 0.5563817 (1221)\ttotal: 15.1s\tremaining: 21.8s\n",
      "2100:\tlearn: 0.6391682\ttest: 0.6391682\ttest1: 0.5402726\tbest: 0.5563817 (1221)\ttotal: 15.5s\tremaining: 21.4s\n",
      "2150:\tlearn: 0.6409585\ttest: 0.6409585\ttest1: 0.5402726\tbest: 0.5563817 (1221)\ttotal: 15.9s\tremaining: 21.1s\n",
      "2200:\tlearn: 0.6424735\ttest: 0.6424735\ttest1: 0.5377943\tbest: 0.5563817 (1221)\ttotal: 16.3s\tremaining: 20.7s\n",
      "Stopped by overfitting detector  (1000 iterations wait)\n",
      "\n",
      "bestTest = 0.5563816605\n",
      "bestIteration = 1221\n",
      "\n",
      "Shrink model to first 1222 iterations.\n"
     ]
    },
    {
     "data": {
      "text/plain": [
       "<catboost.core.CatBoostClassifier at 0x241aed655b0>"
      ]
     },
     "execution_count": 22,
     "metadata": {},
     "output_type": "execute_result"
    }
   ],
   "source": [
    "from catboost import CatBoostClassifier\n",
    "cat = CatBoostClassifier(loss_function='MultiClass', \n",
    "                         eval_metric='Accuracy', \n",
    "                         depth=4,\n",
    "                         random_seed=42, \n",
    "                         iterations=5000, \n",
    "                         learning_rate=0.03,\n",
    "                         leaf_estimation_iterations=1,\n",
    "                         l2_leaf_reg=1,\n",
    "                         bootstrap_type='Bayesian', \n",
    "                         bagging_temperature=4, \n",
    "                         random_strength=1,\n",
    "                         od_type='Iter', \n",
    "                         od_wait=1000)\n",
    "cat.fit(X_train, y_train, verbose=50,\n",
    "        use_best_model=True,\n",
    "        cat_features=categorical_features_indices,\n",
    "        eval_set=[(X_train, y_train),(X_cv, y_cv)],\n",
    "        plot=False)"
   ]
  },
  {
   "cell_type": "code",
   "execution_count": 23,
   "metadata": {
    "colab": {
     "base_uri": "https://localhost:8080/",
     "height": 33
    },
    "colab_type": "code",
    "id": "zl_Gktq_S_Id",
    "outputId": "43e399b3-bc65-43db-e772-004032be85ca"
   },
   "outputs": [
    {
     "name": "stdout",
     "output_type": "stream",
     "text": [
      "accuracy: 0.5563816604708798\n"
     ]
    }
   ],
   "source": [
    "predictions = cat.predict(X_cv)\n",
    "print('accuracy:', accuracy_score(y_cv, predictions))"
   ]
  },
  {
   "cell_type": "code",
   "execution_count": 24,
   "metadata": {
    "colab": {
     "base_uri": "https://localhost:8080/",
     "height": 1000
    },
    "colab_type": "code",
    "id": "Zd07814Dgipm",
    "outputId": "605f5208-4b6a-4a26-f19c-1281887086e3"
   },
   "outputs": [
    {
     "data": {
      "image/png": "[encoded data removed]",
      "text/plain": [
       "<Figure size 720x576 with 1 Axes>"
      ]
     },
     "metadata": {
      "needs_background": "light"
     },
     "output_type": "display_data"
    }
   ],
   "source": [
    "import seaborn as sns\n",
    "feature_imp = pd.DataFrame(sorted(zip(cat.feature_importances_, X.columns), reverse=True)[:10], \n",
    "                           columns=['Value','Feature'])\n",
    "plt.figure(figsize=(10,8))\n",
    "sns.barplot(x=\"Value\", y=\"Feature\", data=feature_imp.sort_values(by=\"Value\", ascending=False))\n",
    "plt.title('Catboost Features')\n",
    "plt.tight_layout()\n",
    "plt.show()"
   ]
  },
  {
   "cell_type": "code",
   "execution_count": 25,
   "metadata": {
    "colab": {},
    "colab_type": "code",
    "id": "F92smSvKhYdq"
   },
   "outputs": [],
   "source": [
    "Xtest = test_df"
   ]
  },
  {
   "cell_type": "code",
   "execution_count": 26,
   "metadata": {
    "colab": {
     "base_uri": "https://localhost:8080/",
     "height": 117
    },
    "colab_type": "code",
    "id": "Rt2H3B4chdDz",
    "outputId": "053e18ff-0af7-4e94-a0ca-54e81bd523b1"
   },
   "outputs": [
    {
     "name": "stdout",
     "output_type": "stream",
     "text": [
      "Accuracy:  0.5415117719950434\n",
      "Accuracy:  0.5377942998760843\n",
      "Accuracy:  0.5700123915737298\n",
      "Accuracy:  0.5439900867410161\n",
      "Accuracy:  0.5415117719950434\n",
      "Accuracy:  0.5824039653035935\n",
      "Accuracy:  0.573729863692689\n",
      "Accuracy:  0.5415117719950434\n",
      "Accuracy:  0.5632754342431762\n",
      "Accuracy:  0.5384615384615384\n"
     ]
    }
   ],
   "source": [
    "from sklearn.model_selection import KFold\n",
    "\n",
    "errcat = []\n",
    "y_pred_totcat = []\n",
    "\n",
    "fold = KFold(n_splits=10, shuffle=True, random_state=42)\n",
    "\n",
    "for train_index, test_index in fold.split(X):\n",
    "    X_train, X_test = X.loc[train_index], X.loc[test_index]\n",
    "    y_train, y_test = y[train_index], y[test_index]\n",
    "    \n",
    "    cat = CatBoostClassifier(loss_function='MultiClass', \n",
    "                         eval_metric='Accuracy', \n",
    "                         depth=6,\n",
    "                         random_seed=42, \n",
    "                         iterations=1000, \n",
    "                         learning_rate=0.1,\n",
    "                         leaf_estimation_iterations=1,\n",
    "                         l2_leaf_reg=1, \n",
    "                         bootstrap_type='Bayesian', \n",
    "                         bagging_temperature=1, \n",
    "                         random_strength=1,\n",
    "                         od_type='Iter', \n",
    "                         od_wait=200)\n",
    "    cat.fit(X_train, y_train, eval_set=[(X_test, y_test)], verbose=0, early_stopping_rounds=200, cat_features=categorical_features_indices)\n",
    "\n",
    "    y_pred_cat = cat.predict(X_test)\n",
    "    print(\"Accuracy: \", accuracy_score(y_test,y_pred_cat))\n",
    "\n",
    "    errcat.append(accuracy_score(y_test,y_pred_cat))\n",
    "    p = cat.predict(Xtest)\n",
    "    y_pred_totcat.append(p)"
   ]
  },
  {
   "cell_type": "code",
   "execution_count": 27,
   "metadata": {
    "colab": {
     "base_uri": "https://localhost:8080/",
     "height": 33
    },
    "colab_type": "code",
    "id": "Zbv4VwVIhgQ_",
    "outputId": "4d55841c-dd9f-4844-aa5a-7fdd3d375cec"
   },
   "outputs": [
    {
     "data": {
      "text/plain": [
       "0.5534202895876958"
      ]
     },
     "execution_count": 27,
     "metadata": {},
     "output_type": "execute_result"
    }
   ],
   "source": [
    "np.mean(errcat,0)"
   ]
  },
  {
   "cell_type": "code",
   "execution_count": 46,
   "metadata": {
    "colab": {
     "base_uri": "https://localhost:8080/",
     "height": 134
    },
    "colab_type": "code",
    "id": "IURrnyB8h2LC",
    "outputId": "400efc52-7b3b-4256-a2b4-4a12ca753a19"
   },
   "outputs": [
    {
     "data": {
      "text/plain": [
       "array([[0],\n",
       "       [2],\n",
       "       [0],\n",
       "       [2],\n",
       "       ...,\n",
       "       [0],\n",
       "       [0],\n",
       "       [1],\n",
       "       [3]])"
      ]
     },
     "execution_count": 46,
     "metadata": {},
     "output_type": "execute_result"
    }
   ],
   "source": [
    "cat_final = np.mean(y_pred_totcat,0).round().astype(int)\n",
    "cat_final"
   ]
  },
  {
   "cell_type": "code",
   "execution_count": 47,
   "metadata": {
    "colab": {
     "base_uri": "https://localhost:8080/",
     "height": 50
    },
    "colab_type": "code",
    "id": "JL4OOfrIh56G",
    "outputId": "78a98618-2ab9-435a-e2ce-30710f9f00a1"
   },
   "outputs": [
    {
     "name": "stderr",
     "output_type": "stream",
     "text": [
      "C:\\Users\\Lenovo\\anaconda3\\lib\\site-packages\\sklearn\\utils\\validation.py:63: DataConversionWarning: A column-vector y was passed when a 1d array was expected. Please change the shape of y to (n_samples, ), for example using ravel().\n",
      "  return f(*args, **kwargs)\n"
     ]
    }
   ],
   "source": [
    "y_pred_class = le.inverse_transform(cat_final)\n",
    "df_sub = pd.DataFrame(data=y_pred_class, columns=['Segmentation'])"
   ]
  },
  {
   "cell_type": "code",
   "execution_count": 48,
   "metadata": {},
   "outputs": [
    {
     "name": "stdout",
     "output_type": "stream",
     "text": [
      "     pet_category\n",
      "0               A\n",
      "1               C\n",
      "2               A\n",
      "3               C\n",
      "4               D\n",
      "...           ...\n",
      "2622            D\n",
      "2623            A\n",
      "2624            A\n",
      "2625            B\n",
      "2626            D\n",
      "\n",
      "[2627 rows x 1 columns]\n"
     ]
    }
   ],
   "source": [
    "submission = pd.DataFrame({\n",
    "        \"pet_category\": df_sub['Segmentation']\n",
    "    })\n",
    "print(submission)"
   ]
  },
  {
   "cell_type": "code",
   "execution_count": null,
   "metadata": {},
   "outputs": [],
   "source": []
  },
  {
   "cell_type": "markdown",
   "metadata": {
    "colab_type": "text",
    "id": "uDNWsa8J8djW"
   },
   "source": [
    "# Fastai DL  "
   ]
  },
  {
   "cell_type": "code",
   "execution_count": 31,
   "metadata": {
    "colab": {},
    "colab_type": "code",
    "id": "qjVrX8OgoWqe"
   },
   "outputs": [],
   "source": [
    "import pandas as pd\n",
    "from fastai import *\n",
    "from fastai.tabular import *"
   ]
  },
  {
   "cell_type": "code",
   "execution_count": 33,
   "metadata": {},
   "outputs": [],
   "source": [
    "from fastai.tabular.data import TabularList"
   ]
  },
  {
   "cell_type": "code",
   "execution_count": 35,
   "metadata": {
    "colab": {},
    "colab_type": "code",
    "id": "c4QzBvit8t1Z"
   },
   "outputs": [],
   "source": [
    "train = pd.read_csv('Train_aBjfeNk.csv')\n",
    "test = pd.read_csv('Test_LqhgPWU.csv')"
   ]
  },
  {
   "cell_type": "code",
   "execution_count": 36,
   "metadata": {
    "colab": {},
    "colab_type": "code",
    "id": "rruiQQEroXKL"
   },
   "outputs": [],
   "source": [
    "dep_var = 'Segmentation'\n",
    "cat_names = ['ID','Gender', 'Ever_Married', 'Graduated', 'Profession', 'Spending_Score', 'Var_1']\n",
    "cont_names = ['Age', 'Work_Experience', 'Family_Size']\n",
    "procs = [FillMissing, Categorify, Normalize]"
   ]
  },
  {
   "cell_type": "code",
   "execution_count": 44,
   "metadata": {
    "colab": {
     "base_uri": "https://localhost:8080/",
     "height": 406
    },
    "colab_type": "code",
    "id": "jeRKM7DKohYn",
    "outputId": "695591da-2771-49bd-ca31-1125b45309c0"
   },
   "outputs": [
    {
     "data": {
      "text/plain": [
       "TabularDataBunch;\n",
       "\n",
       "Train: LabelList (6768 items)\n",
       "x: TabularList\n",
       "ID 463231; Gender Male; Ever_Married Yes; Graduated Yes; Profession Artist; Spending_Score Average; Var_1 Cat_6; Work_Experience_na False; Family_Size_na False; Age 0.3841; Work_Experience -0.4488; Family_Size 0.1269; ,ID 465863; Gender Male; Ever_Married No; Graduated No; Profession Healthcare; Spending_Score Low; Var_1 Cat_6; Work_Experience_na False; Family_Size_na False; Age -0.9877; Work_Experience 0.7785; Family_Size 0.1269; ,ID 463557; Gender Male; Ever_Married No; Graduated Yes; Profession Doctor; Spending_Score Low; Var_1 Cat_6; Work_Experience_na False; Family_Size_na False; Age -0.9281; Work_Experience -0.4488; Family_Size 0.1269; ,ID 467636; Gender Male; Ever_Married Yes; Graduated Yes; Profession Doctor; Spending_Score Average; Var_1 Cat_6; Work_Experience_na False; Family_Size_na False; Age 0.0859; Work_Experience -0.4488; Family_Size -0.5328; ,ID 463539; Gender Male; Ever_Married Yes; Graduated Yes; Profession Artist; Spending_Score Average; Var_1 Cat_4; Work_Experience_na False; Family_Size_na False; Age 0.9209; Work_Experience -0.4488; Family_Size -0.5328; \n",
       "y: CategoryList\n",
       "A,D,A,C,B\n",
       "Path: .;\n",
       "\n",
       "Valid: LabelList (1300 items)\n",
       "x: TabularList\n",
       "ID #na#; Gender Male; Ever_Married No; Graduated No; Profession Healthcare; Spending_Score Low; Var_1 Cat_4; Work_Experience_na False; Family_Size_na False; Age -1.2859; Work_Experience -0.4488; Family_Size 0.7866; ,ID #na#; Gender Female; Ever_Married Yes; Graduated Yes; Profession Engineer; Spending_Score Average; Var_1 Cat_4; Work_Experience_na True; Family_Size_na False; Age -0.3316; Work_Experience -0.4488; Family_Size 0.1269; ,ID #na#; Gender Female; Ever_Married Yes; Graduated Yes; Profession Engineer; Spending_Score Low; Var_1 Cat_6; Work_Experience_na False; Family_Size_na False; Age 1.3980; Work_Experience -0.4488; Family_Size -1.1925; ,ID #na#; Gender Male; Ever_Married Yes; Graduated Yes; Profession Lawyer; Spending_Score High; Var_1 Cat_6; Work_Experience_na False; Family_Size_na False; Age 1.3980; Work_Experience -0.7556; Family_Size -0.5328; ,ID #na#; Gender Female; Ever_Married Yes; Graduated Yes; Profession Entertainment; Spending_Score High; Var_1 Cat_6; Work_Experience_na True; Family_Size_na False; Age -0.2123; Work_Experience -0.4488; Family_Size 2.1061; \n",
       "y: CategoryList\n",
       "D,A,B,B,A\n",
       "Path: .;\n",
       "\n",
       "Test: LabelList (2627 items)\n",
       "x: TabularList\n",
       "ID 458989; Gender Female; Ever_Married Yes; Graduated Yes; Profession Engineer; Spending_Score Low; Var_1 Cat_6; Work_Experience_na False; Family_Size_na False; Age -0.4509; Work_Experience -0.7556; Family_Size -1.1925; ,ID 458994; Gender Male; Ever_Married Yes; Graduated Yes; Profession Healthcare; Spending_Score Average; Var_1 Cat_6; Work_Experience_na False; Family_Size_na False; Age -0.3913; Work_Experience 1.6989; Family_Size 0.7866; ,ID 458996; Gender Female; Ever_Married Yes; Graduated No; Profession #na#; Spending_Score Low; Var_1 Cat_6; Work_Experience_na False; Family_Size_na False; Age 1.5173; Work_Experience -0.7556; Family_Size -1.1925; ,ID 459000; Gender Male; Ever_Married Yes; Graduated No; Profession Executive; Spending_Score High; Var_1 Cat_6; Work_Experience_na False; Family_Size_na False; Age 0.9209; Work_Experience 2.6194; Family_Size -0.5328; ,ID 459001; Gender Female; Ever_Married No; Graduated No; Profession Marketing; Spending_Score Low; Var_1 Cat_6; Work_Experience_na True; Family_Size_na False; Age -1.4648; Work_Experience -0.4488; Family_Size 0.7866; \n",
       "y: CategoryList\n",
       "0,0,0,0,0\n",
       "Path: ."
      ]
     },
     "execution_count": 44,
     "metadata": {},
     "output_type": "execute_result"
    }
   ],
   "source": [
    "# Test Tabular List\n",
    "test = TabularList.from_df(test, cat_names=cat_names, cont_names=cont_names, procs=procs)\n",
    "\n",
    "# Train Data Bunch\n",
    "data = (TabularList.from_df(train, path='.', cat_names=cat_names, cont_names=cont_names, procs=procs)\n",
    "                        .split_by_idx(list(range(0,1300)))\n",
    "                        .label_from_df(cols = dep_var)\n",
    "                        .add_test(test, label=0)\n",
    "                        .databunch())\n",
    "\n",
    "data"
   ]
  },
  {
   "cell_type": "code",
   "execution_count": 45,
   "metadata": {
    "colab": {
     "base_uri": "https://localhost:8080/",
     "height": 372
    },
    "colab_type": "code",
    "id": "ZXMpmJa0okQr",
    "outputId": "d73a3ac3-54f3-4c8e-8cef-5be8d1109bdb"
   },
   "outputs": [
    {
     "data": {
      "text/html": [
       "\n",
       "    <div>\n",
       "        <style>\n",
       "            /* Turns off some styling */\n",
       "            progress {\n",
       "                /* gets rid of default border in Firefox and Opera. */\n",
       "                border: none;\n",
       "                /* Needs to be in here for Safari polyfill so background images work as expected. */\n",
       "                background-size: auto;\n",
       "            }\n",
       "            .progress-bar-interrupted, .progress-bar-interrupted::-webkit-progress-bar {\n",
       "                background: #F44336;\n",
       "            }\n",
       "        </style>\n",
       "      <progress value='0' class='' max='1' style='width:300px; height:20px; vertical-align: middle;'></progress>\n",
       "      0.00% [0/1 00:00<00:00]\n",
       "    </div>\n",
       "    \n",
       "<table border=\"1\" class=\"dataframe\">\n",
       "  <thead>\n",
       "    <tr style=\"text-align: left;\">\n",
       "      <th>epoch</th>\n",
       "      <th>train_loss</th>\n",
       "      <th>valid_loss</th>\n",
       "      <th>accuracy</th>\n",
       "      <th>time</th>\n",
       "    </tr>\n",
       "  </thead>\n",
       "  <tbody>\n",
       "  </tbody>\n",
       "</table><p>\n",
       "\n",
       "    <div>\n",
       "        <style>\n",
       "            /* Turns off some styling */\n",
       "            progress {\n",
       "                /* gets rid of default border in Firefox and Opera. */\n",
       "                border: none;\n",
       "                /* Needs to be in here for Safari polyfill so background images work as expected. */\n",
       "                background-size: auto;\n",
       "            }\n",
       "            .progress-bar-interrupted, .progress-bar-interrupted::-webkit-progress-bar {\n",
       "                background: #F44336;\n",
       "            }\n",
       "        </style>\n",
       "      <progress value='90' class='' max='105' style='width:300px; height:20px; vertical-align: middle;'></progress>\n",
       "      85.71% [90/105 00:34<00:05 3.5975]\n",
       "    </div>\n",
       "    "
      ],
      "text/plain": [
       "<IPython.core.display.HTML object>"
      ]
     },
     "metadata": {},
     "output_type": "display_data"
    },
    {
     "name": "stdout",
     "output_type": "stream",
     "text": [
      "LR Finder is complete, type {learner_name}.recorder.plot() to see the graph.\n"
     ]
    },
    {
     "data": {
      "image/png": "[encoded data removed]",
      "text/plain": [
       "<Figure size 432x288 with 1 Axes>"
      ]
     },
     "metadata": {
      "needs_background": "light"
     },
     "output_type": "display_data"
    }
   ],
   "source": [
    "# Create deep learning model\n",
    "learn = tabular_learner(data, layers=[100,500,300], metrics=[accuracy], emb_drop=0.4, callback_fns=ShowGraph)\n",
    "\n",
    "# select the appropriate learning rate\n",
    "learn.lr_find()\n",
    "\n",
    "# we typically find the point where the slope is steepest\n",
    "learn.recorder.plot()"
   ]
  },
  {
   "cell_type": "code",
   "execution_count": 46,
   "metadata": {
    "colab": {
     "base_uri": "https://localhost:8080/",
     "height": 988
    },
    "colab_type": "code",
    "id": "nZijOQxJonmV",
    "outputId": "712c00e0-f10f-421a-c2ac-89c15d852b0a"
   },
   "outputs": [
    {
     "data": {
      "text/html": [
       "<table border=\"1\" class=\"dataframe\">\n",
       "  <thead>\n",
       "    <tr style=\"text-align: left;\">\n",
       "      <th>epoch</th>\n",
       "      <th>train_loss</th>\n",
       "      <th>valid_loss</th>\n",
       "      <th>accuracy</th>\n",
       "      <th>time</th>\n",
       "    </tr>\n",
       "  </thead>\n",
       "  <tbody>\n",
       "    <tr>\n",
       "      <td>0</td>\n",
       "      <td>1.245635</td>\n",
       "      <td>1.254456</td>\n",
       "      <td>0.500000</td>\n",
       "      <td>01:04</td>\n",
       "    </tr>\n",
       "    <tr>\n",
       "      <td>1</td>\n",
       "      <td>0.885358</td>\n",
       "      <td>1.222590</td>\n",
       "      <td>0.446923</td>\n",
       "      <td>01:05</td>\n",
       "    </tr>\n",
       "    <tr>\n",
       "      <td>2</td>\n",
       "      <td>0.585881</td>\n",
       "      <td>1.378014</td>\n",
       "      <td>0.424615</td>\n",
       "      <td>01:07</td>\n",
       "    </tr>\n",
       "    <tr>\n",
       "      <td>3</td>\n",
       "      <td>0.390584</td>\n",
       "      <td>1.420513</td>\n",
       "      <td>0.460769</td>\n",
       "      <td>01:04</td>\n",
       "    </tr>\n",
       "    <tr>\n",
       "      <td>4</td>\n",
       "      <td>0.312945</td>\n",
       "      <td>1.596487</td>\n",
       "      <td>0.436923</td>\n",
       "      <td>01:06</td>\n",
       "    </tr>\n",
       "    <tr>\n",
       "      <td>5</td>\n",
       "      <td>0.244673</td>\n",
       "      <td>1.842785</td>\n",
       "      <td>0.376923</td>\n",
       "      <td>01:05</td>\n",
       "    </tr>\n",
       "    <tr>\n",
       "      <td>6</td>\n",
       "      <td>0.153350</td>\n",
       "      <td>1.493047</td>\n",
       "      <td>0.486923</td>\n",
       "      <td>01:03</td>\n",
       "    </tr>\n",
       "    <tr>\n",
       "      <td>7</td>\n",
       "      <td>0.148455</td>\n",
       "      <td>5.037615</td>\n",
       "      <td>0.430769</td>\n",
       "      <td>01:04</td>\n",
       "    </tr>\n",
       "    <tr>\n",
       "      <td>8</td>\n",
       "      <td>0.160328</td>\n",
       "      <td>1.369290</td>\n",
       "      <td>0.513077</td>\n",
       "      <td>01:05</td>\n",
       "    </tr>\n",
       "    <tr>\n",
       "      <td>9</td>\n",
       "      <td>0.113127</td>\n",
       "      <td>1.525451</td>\n",
       "      <td>0.430000</td>\n",
       "      <td>01:01</td>\n",
       "    </tr>\n",
       "    <tr>\n",
       "      <td>10</td>\n",
       "      <td>0.058260</td>\n",
       "      <td>2.049455</td>\n",
       "      <td>0.506154</td>\n",
       "      <td>01:07</td>\n",
       "    </tr>\n",
       "    <tr>\n",
       "      <td>11</td>\n",
       "      <td>0.030542</td>\n",
       "      <td>2.042458</td>\n",
       "      <td>0.457692</td>\n",
       "      <td>01:04</td>\n",
       "    </tr>\n",
       "    <tr>\n",
       "      <td>12</td>\n",
       "      <td>0.010829</td>\n",
       "      <td>2.135656</td>\n",
       "      <td>0.458462</td>\n",
       "      <td>01:04</td>\n",
       "    </tr>\n",
       "    <tr>\n",
       "      <td>13</td>\n",
       "      <td>0.004237</td>\n",
       "      <td>2.122329</td>\n",
       "      <td>0.480769</td>\n",
       "      <td>01:05</td>\n",
       "    </tr>\n",
       "    <tr>\n",
       "      <td>14</td>\n",
       "      <td>0.003337</td>\n",
       "      <td>2.016965</td>\n",
       "      <td>0.495385</td>\n",
       "      <td>01:03</td>\n",
       "    </tr>\n",
       "  </tbody>\n",
       "</table>"
      ],
      "text/plain": [
       "<IPython.core.display.HTML object>"
      ]
     },
     "metadata": {},
     "output_type": "display_data"
    },
    {
     "data": {
      "image/png": "[encoded data removed]",
      "text/plain": [
       "<Figure size 432x288 with 1 Axes>"
      ]
     },
     "metadata": {},
     "output_type": "display_data"
    },
    {
     "data": {
      "image/png": "[encoded data removed]",
      "text/plain": [
       "<Figure size 432x288 with 1 Axes>"
      ]
     },
     "metadata": {
      "needs_background": "light"
     },
     "output_type": "display_data"
    }
   ],
   "source": [
    "\n",
    "# Fit the model based on selected learning rate\n",
    "learn.fit_one_cycle(15, max_lr=slice(1e-01))\n",
    "\n",
    "# Analyse our model\n",
    "learn.model\n",
    "learn.recorder.plot_losses()"
   ]
  },
  {
   "cell_type": "code",
   "execution_count": 47,
   "metadata": {
    "colab": {
     "base_uri": "https://localhost:8080/",
     "height": 16
    },
    "colab_type": "code",
    "id": "tm5b_nUYpiaf",
    "outputId": "72a2a9ca-493b-42f7-82ec-6dd0ca08828f"
   },
   "outputs": [
    {
     "data": {
      "text/html": [],
      "text/plain": [
       "<IPython.core.display.HTML object>"
      ]
     },
     "metadata": {},
     "output_type": "display_data"
    }
   ],
   "source": [
    "\n",
    "# Predict our target value\n",
    "predictions, *_ = learn.get_preds(DatasetType.Test)"
   ]
  },
  {
   "cell_type": "code",
   "execution_count": 48,
   "metadata": {
    "colab": {
     "base_uri": "https://localhost:8080/",
     "height": 33
    },
    "colab_type": "code",
    "id": "DaYXliNuqCu_",
    "outputId": "bb2b7d18-4f6c-4d82-fce1-70b07c863c12"
   },
   "outputs": [
    {
     "data": {
      "text/plain": [
       "tensor([1, 2, 0,  ..., 0, 1, 3])"
      ]
     },
     "execution_count": 48,
     "metadata": {},
     "output_type": "execute_result"
    }
   ],
   "source": [
    "\n",
    "seg_index = np.argmax(predictions, axis=1);seg_index"
   ]
  },
  {
   "cell_type": "code",
   "execution_count": 49,
   "metadata": {
    "colab": {
     "base_uri": "https://localhost:8080/",
     "height": 33
    },
    "colab_type": "code",
    "id": "tf3opC0qqGe7",
    "outputId": "7791e228-8c22-4362-e5bd-fec53a1e28a3"
   },
   "outputs": [
    {
     "data": {
      "text/plain": [
       "['A', 'B', 'C', 'D']"
      ]
     },
     "execution_count": 49,
     "metadata": {},
     "output_type": "execute_result"
    }
   ],
   "source": [
    "\n",
    "learn.data.classes"
   ]
  },
  {
   "cell_type": "code",
   "execution_count": 50,
   "metadata": {
    "colab": {},
    "colab_type": "code",
    "id": "SCCBRjuGqI7w"
   },
   "outputs": [],
   "source": [
    "data = []\n",
    "for i in seg_index:\n",
    "    data.append(learn.data.classes[i])"
   ]
  },
  {
   "cell_type": "code",
   "execution_count": 52,
   "metadata": {
    "colab": {},
    "colab_type": "code",
    "id": "sQSyiXflqLiD"
   },
   "outputs": [],
   "source": [
    "submission = pd.DataFrame(columns=['Segmentation'])\n",
    "# Write submission file to score\n",
    "#submission['ID'] = test['ID']\n",
    "submission['Segmentation'] = data\n"
   ]
  },
  {
   "cell_type": "code",
   "execution_count": 54,
   "metadata": {
    "colab": {
     "base_uri": "https://localhost:8080/",
     "height": 104
    },
    "colab_type": "code",
    "id": "ffjNbrwkqO2v",
    "outputId": "6638ad4e-f5a7-44bc-e353-11d12bf8d83b"
   },
   "outputs": [
    {
     "data": {
      "text/html": [
       "<div>\n",
       "<style scoped>\n",
       "    .dataframe tbody tr th:only-of-type {\n",
       "        vertical-align: middle;\n",
       "    }\n",
       "\n",
       "    .dataframe tbody tr th {\n",
       "        vertical-align: top;\n",
       "    }\n",
       "\n",
       "    .dataframe thead th {\n",
       "        text-align: right;\n",
       "    }\n",
       "</style>\n",
       "<table border=\"1\" class=\"dataframe\">\n",
       "  <thead>\n",
       "    <tr style=\"text-align: right;\">\n",
       "      <th></th>\n",
       "      <th>Segmentation</th>\n",
       "    </tr>\n",
       "  </thead>\n",
       "  <tbody>\n",
       "    <tr>\n",
       "      <th>0</th>\n",
       "      <td>B</td>\n",
       "    </tr>\n",
       "    <tr>\n",
       "      <th>1</th>\n",
       "      <td>C</td>\n",
       "    </tr>\n",
       "    <tr>\n",
       "      <th>2</th>\n",
       "      <td>A</td>\n",
       "    </tr>\n",
       "    <tr>\n",
       "      <th>3</th>\n",
       "      <td>C</td>\n",
       "    </tr>\n",
       "    <tr>\n",
       "      <th>4</th>\n",
       "      <td>C</td>\n",
       "    </tr>\n",
       "    <tr>\n",
       "      <th>5</th>\n",
       "      <td>C</td>\n",
       "    </tr>\n",
       "    <tr>\n",
       "      <th>6</th>\n",
       "      <td>C</td>\n",
       "    </tr>\n",
       "    <tr>\n",
       "      <th>7</th>\n",
       "      <td>B</td>\n",
       "    </tr>\n",
       "    <tr>\n",
       "      <th>8</th>\n",
       "      <td>C</td>\n",
       "    </tr>\n",
       "    <tr>\n",
       "      <th>9</th>\n",
       "      <td>D</td>\n",
       "    </tr>\n",
       "  </tbody>\n",
       "</table>\n",
       "</div>"
      ],
      "text/plain": [
       "  Segmentation\n",
       "0            B\n",
       "1            C\n",
       "2            A\n",
       "3            C\n",
       "4            C\n",
       "5            C\n",
       "6            C\n",
       "7            B\n",
       "8            C\n",
       "9            D"
      ]
     },
     "execution_count": 54,
     "metadata": {},
     "output_type": "execute_result"
    }
   ],
   "source": [
    "submission.head(10)"
   ]
  },
  {
   "cell_type": "code",
   "execution_count": 58,
   "metadata": {},
   "outputs": [
    {
     "data": {
      "text/plain": [
       "(2627, 1)"
      ]
     },
     "execution_count": 58,
     "metadata": {},
     "output_type": "execute_result"
    }
   ],
   "source": [
    "submission.shape"
   ]
  },
  {
   "cell_type": "markdown",
   "metadata": {},
   "source": [
    "Reading with more parameters inorder to get better results"
   ]
  },
  {
   "cell_type": "code",
   "execution_count": 37,
   "metadata": {
    "colab": {},
    "colab_type": "code",
    "id": "ItRZX6HZruhR"
   },
   "outputs": [],
   "source": [
    "# Declaring dependent, Categorical and Continuous Variables\n",
    "dep_var = 'Segmentation'\n",
    "cat_names = ['ID','Gender', 'Ever_Married', 'Graduated', 'Profession', 'Spending_Score', 'Var_1']\n",
    "cont_names = ['Age', 'Work_Experience', 'Family_Size']\n",
    "procs = [FillMissing, Categorify, Normalize]"
   ]
  },
  {
   "cell_type": "code",
   "execution_count": 38,
   "metadata": {
    "colab": {},
    "colab_type": "code",
    "id": "I4W0lYybUkN7"
   },
   "outputs": [
    {
     "data": {
      "text/plain": [
       "TabularDataBunch;\n",
       "\n",
       "Train: LabelList (6868 items)\n",
       "x: TabularList\n",
       "ID 462509; Gender Female; Ever_Married Yes; Graduated Yes; Profession Artist; Spending_Score Average; Var_1 Cat_6; Work_Experience_na False; Family_Size_na False; Age 0.1458; Work_Experience -0.7547; Family_Size -0.5334; ,ID 459469; Gender Male; Ever_Married Yes; Graduated Yes; Profession Healthcare; Spending_Score Low; Var_1 Cat_6; Work_Experience_na True; Family_Size_na False; Age -0.8088; Work_Experience -0.4491; Family_Size 2.1001; ,ID 465499; Gender Male; Ever_Married No; Graduated Yes; Profession Artist; Spending_Score Low; Var_1 Cat_6; Work_Experience_na False; Family_Size_na False; Age 1.1600; Work_Experience -0.7547; Family_Size -1.1917; ,ID 464913; Gender Male; Ever_Married Yes; Graduated Yes; Profession Entertainment; Spending_Score Low; Var_1 Cat_4; Work_Experience_na False; Family_Size_na False; Age 0.5037; Work_Experience -0.7547; Family_Size 0.7834; ,ID 465969; Gender Female; Ever_Married No; Graduated Yes; Profession Doctor; Spending_Score Low; Var_1 Cat_7; Work_Experience_na False; Family_Size_na False; Age -0.9281; Work_Experience 2.9131; Family_Size -0.5334; \n",
       "y: CategoryList\n",
       "C,A,A,B,D\n",
       "Path: .;\n",
       "\n",
       "Valid: LabelList (1200 items)\n",
       "x: TabularList\n",
       "ID #na#; Gender Male; Ever_Married No; Graduated No; Profession Healthcare; Spending_Score Low; Var_1 Cat_4; Work_Experience_na False; Family_Size_na False; Age -1.2861; Work_Experience -0.4491; Family_Size 0.7834; ,ID #na#; Gender Female; Ever_Married Yes; Graduated Yes; Profession Engineer; Spending_Score Average; Var_1 Cat_4; Work_Experience_na True; Family_Size_na False; Age -0.3315; Work_Experience -0.4491; Family_Size 0.1250; ,ID #na#; Gender Female; Ever_Married Yes; Graduated Yes; Profession Engineer; Spending_Score Low; Var_1 Cat_6; Work_Experience_na False; Family_Size_na False; Age 1.3987; Work_Experience -0.4491; Family_Size -1.1917; ,ID #na#; Gender Male; Ever_Married Yes; Graduated Yes; Profession Lawyer; Spending_Score High; Var_1 Cat_6; Work_Experience_na False; Family_Size_na False; Age 1.3987; Work_Experience -0.7547; Family_Size -0.5334; ,ID #na#; Gender Female; Ever_Married Yes; Graduated Yes; Profession Entertainment; Spending_Score High; Var_1 Cat_6; Work_Experience_na True; Family_Size_na False; Age -0.2122; Work_Experience -0.4491; Family_Size 2.1001; \n",
       "y: CategoryList\n",
       "D,A,B,B,A\n",
       "Path: .;\n",
       "\n",
       "Test: LabelList (2627 items)\n",
       "x: TabularList\n",
       "ID 458989; Gender Female; Ever_Married Yes; Graduated Yes; Profession Engineer; Spending_Score Low; Var_1 Cat_6; Work_Experience_na False; Family_Size_na False; Age -0.4509; Work_Experience -0.7547; Family_Size -1.1917; ,ID 458994; Gender Male; Ever_Married Yes; Graduated Yes; Profession Healthcare; Spending_Score Average; Var_1 Cat_6; Work_Experience_na False; Family_Size_na False; Age -0.3912; Work_Experience 1.6905; Family_Size 0.7834; ,ID 458996; Gender Female; Ever_Married Yes; Graduated No; Profession #na#; Spending_Score Low; Var_1 Cat_6; Work_Experience_na False; Family_Size_na False; Age 1.5180; Work_Experience -0.7547; Family_Size -1.1917; ,ID 459000; Gender Male; Ever_Married Yes; Graduated No; Profession Executive; Spending_Score High; Var_1 Cat_6; Work_Experience_na False; Family_Size_na False; Age 0.9214; Work_Experience 2.6074; Family_Size -0.5334; ,ID 459001; Gender Female; Ever_Married No; Graduated No; Profession Marketing; Spending_Score Low; Var_1 Cat_6; Work_Experience_na True; Family_Size_na False; Age -1.4651; Work_Experience -0.4491; Family_Size 0.7834; \n",
       "y: CategoryList\n",
       "0,0,0,0,0\n",
       "Path: ."
      ]
     },
     "execution_count": 38,
     "metadata": {},
     "output_type": "execute_result"
    }
   ],
   "source": [
    "test = TabularList.from_df(test, cat_names=cat_names, cont_names=cont_names, procs=procs)\n",
    "\n",
    "# Train Data Bunch\n",
    "data = (TabularList.from_df(train, path='.', cat_names=cat_names, cont_names=cont_names, procs=procs)\n",
    "                        .split_by_idx(list(range(0,1200)))\n",
    "                        .label_from_df(cols = dep_var)\n",
    "                        .add_test(test, label=0)\n",
    "                        .databunch())\n",
    "\n",
    "data"
   ]
  },
  {
   "cell_type": "code",
   "execution_count": 39,
   "metadata": {
    "colab": {},
    "colab_type": "code",
    "id": "XgmPHcqDUny4"
   },
   "outputs": [
    {
     "data": {
      "text/html": [
       "\n",
       "    <div>\n",
       "        <style>\n",
       "            /* Turns off some styling */\n",
       "            progress {\n",
       "                /* gets rid of default border in Firefox and Opera. */\n",
       "                border: none;\n",
       "                /* Needs to be in here for Safari polyfill so background images work as expected. */\n",
       "                background-size: auto;\n",
       "            }\n",
       "            .progress-bar-interrupted, .progress-bar-interrupted::-webkit-progress-bar {\n",
       "                background: #F44336;\n",
       "            }\n",
       "        </style>\n",
       "      <progress value='0' class='' max='1' style='width:300px; height:20px; vertical-align: middle;'></progress>\n",
       "      0.00% [0/1 00:00<00:00]\n",
       "    </div>\n",
       "    \n",
       "<table border=\"1\" class=\"dataframe\">\n",
       "  <thead>\n",
       "    <tr style=\"text-align: left;\">\n",
       "      <th>epoch</th>\n",
       "      <th>train_loss</th>\n",
       "      <th>valid_loss</th>\n",
       "      <th>accuracy</th>\n",
       "      <th>time</th>\n",
       "    </tr>\n",
       "  </thead>\n",
       "  <tbody>\n",
       "  </tbody>\n",
       "</table><p>\n",
       "\n",
       "    <div>\n",
       "        <style>\n",
       "            /* Turns off some styling */\n",
       "            progress {\n",
       "                /* gets rid of default border in Firefox and Opera. */\n",
       "                border: none;\n",
       "                /* Needs to be in here for Safari polyfill so background images work as expected. */\n",
       "                background-size: auto;\n",
       "            }\n",
       "            .progress-bar-interrupted, .progress-bar-interrupted::-webkit-progress-bar {\n",
       "                background: #F44336;\n",
       "            }\n",
       "        </style>\n",
       "      <progress value='90' class='' max='107' style='width:300px; height:20px; vertical-align: middle;'></progress>\n",
       "      84.11% [90/107 00:42<00:08 3.7550]\n",
       "    </div>\n",
       "    "
      ],
      "text/plain": [
       "<IPython.core.display.HTML object>"
      ]
     },
     "metadata": {},
     "output_type": "display_data"
    },
    {
     "name": "stdout",
     "output_type": "stream",
     "text": [
      "LR Finder is complete, type {learner_name}.recorder.plot() to see the graph.\n"
     ]
    },
    {
     "data": {
      "image/png": "[encoded data removed]",
      "text/plain": [
       "<Figure size 432x288 with 1 Axes>"
      ]
     },
     "metadata": {
      "needs_background": "light"
     },
     "output_type": "display_data"
    }
   ],
   "source": [
    "\n",
    "learn = tabular_learner(data, layers=[100, 5000, 450,350,300], metrics=accuracy, emb_drop=0.3, callback_fns=ShowGraph)\n",
    "\n",
    "learn.lr_find()\n",
    "learn.recorder.plot()"
   ]
  },
  {
   "cell_type": "code",
   "execution_count": 40,
   "metadata": {
    "colab": {
     "base_uri": "https://localhost:8080/",
     "height": 1000
    },
    "colab_type": "code",
    "id": "KzuNSTkAszTm",
    "outputId": "9bee875d-479a-44e1-eeb8-779f26c9cd9b"
   },
   "outputs": [
    {
     "data": {
      "text/html": [
       "<table border=\"1\" class=\"dataframe\">\n",
       "  <thead>\n",
       "    <tr style=\"text-align: left;\">\n",
       "      <th>epoch</th>\n",
       "      <th>train_loss</th>\n",
       "      <th>valid_loss</th>\n",
       "      <th>accuracy</th>\n",
       "      <th>time</th>\n",
       "    </tr>\n",
       "  </thead>\n",
       "  <tbody>\n",
       "    <tr>\n",
       "      <td>0</td>\n",
       "      <td>1.415693</td>\n",
       "      <td>1.344924</td>\n",
       "      <td>0.370833</td>\n",
       "      <td>01:18</td>\n",
       "    </tr>\n",
       "    <tr>\n",
       "      <td>1</td>\n",
       "      <td>1.292431</td>\n",
       "      <td>1.235952</td>\n",
       "      <td>0.420833</td>\n",
       "      <td>01:19</td>\n",
       "    </tr>\n",
       "    <tr>\n",
       "      <td>2</td>\n",
       "      <td>1.246154</td>\n",
       "      <td>1.215223</td>\n",
       "      <td>0.427500</td>\n",
       "      <td>01:18</td>\n",
       "    </tr>\n",
       "    <tr>\n",
       "      <td>3</td>\n",
       "      <td>1.224579</td>\n",
       "      <td>1.215469</td>\n",
       "      <td>0.443333</td>\n",
       "      <td>01:18</td>\n",
       "    </tr>\n",
       "    <tr>\n",
       "      <td>4</td>\n",
       "      <td>1.210294</td>\n",
       "      <td>1.198924</td>\n",
       "      <td>0.447500</td>\n",
       "      <td>01:11</td>\n",
       "    </tr>\n",
       "    <tr>\n",
       "      <td>5</td>\n",
       "      <td>1.204389</td>\n",
       "      <td>1.203724</td>\n",
       "      <td>0.450000</td>\n",
       "      <td>01:09</td>\n",
       "    </tr>\n",
       "    <tr>\n",
       "      <td>6</td>\n",
       "      <td>1.183834</td>\n",
       "      <td>1.196843</td>\n",
       "      <td>0.460000</td>\n",
       "      <td>01:17</td>\n",
       "    </tr>\n",
       "    <tr>\n",
       "      <td>7</td>\n",
       "      <td>1.178932</td>\n",
       "      <td>1.192896</td>\n",
       "      <td>0.459167</td>\n",
       "      <td>01:12</td>\n",
       "    </tr>\n",
       "    <tr>\n",
       "      <td>8</td>\n",
       "      <td>1.162053</td>\n",
       "      <td>1.184178</td>\n",
       "      <td>0.458333</td>\n",
       "      <td>01:18</td>\n",
       "    </tr>\n",
       "    <tr>\n",
       "      <td>9</td>\n",
       "      <td>1.143346</td>\n",
       "      <td>1.177984</td>\n",
       "      <td>0.466667</td>\n",
       "      <td>01:22</td>\n",
       "    </tr>\n",
       "    <tr>\n",
       "      <td>10</td>\n",
       "      <td>1.124155</td>\n",
       "      <td>1.177927</td>\n",
       "      <td>0.485833</td>\n",
       "      <td>01:17</td>\n",
       "    </tr>\n",
       "    <tr>\n",
       "      <td>11</td>\n",
       "      <td>1.116110</td>\n",
       "      <td>1.170613</td>\n",
       "      <td>0.464167</td>\n",
       "      <td>01:15</td>\n",
       "    </tr>\n",
       "    <tr>\n",
       "      <td>12</td>\n",
       "      <td>1.096975</td>\n",
       "      <td>1.179030</td>\n",
       "      <td>0.457500</td>\n",
       "      <td>01:16</td>\n",
       "    </tr>\n",
       "    <tr>\n",
       "      <td>13</td>\n",
       "      <td>1.068993</td>\n",
       "      <td>1.165638</td>\n",
       "      <td>0.465000</td>\n",
       "      <td>01:17</td>\n",
       "    </tr>\n",
       "    <tr>\n",
       "      <td>14</td>\n",
       "      <td>1.057339</td>\n",
       "      <td>1.153233</td>\n",
       "      <td>0.474167</td>\n",
       "      <td>01:17</td>\n",
       "    </tr>\n",
       "    <tr>\n",
       "      <td>15</td>\n",
       "      <td>1.038333</td>\n",
       "      <td>1.157207</td>\n",
       "      <td>0.462500</td>\n",
       "      <td>01:18</td>\n",
       "    </tr>\n",
       "    <tr>\n",
       "      <td>16</td>\n",
       "      <td>1.027764</td>\n",
       "      <td>1.161576</td>\n",
       "      <td>0.455833</td>\n",
       "      <td>01:17</td>\n",
       "    </tr>\n",
       "    <tr>\n",
       "      <td>17</td>\n",
       "      <td>1.012981</td>\n",
       "      <td>1.166467</td>\n",
       "      <td>0.460833</td>\n",
       "      <td>01:16</td>\n",
       "    </tr>\n",
       "    <tr>\n",
       "      <td>18</td>\n",
       "      <td>0.999195</td>\n",
       "      <td>1.161224</td>\n",
       "      <td>0.451667</td>\n",
       "      <td>01:17</td>\n",
       "    </tr>\n",
       "    <tr>\n",
       "      <td>19</td>\n",
       "      <td>0.982061</td>\n",
       "      <td>1.155138</td>\n",
       "      <td>0.462500</td>\n",
       "      <td>01:20</td>\n",
       "    </tr>\n",
       "    <tr>\n",
       "      <td>20</td>\n",
       "      <td>0.967718</td>\n",
       "      <td>1.159913</td>\n",
       "      <td>0.465833</td>\n",
       "      <td>01:18</td>\n",
       "    </tr>\n",
       "    <tr>\n",
       "      <td>21</td>\n",
       "      <td>0.956943</td>\n",
       "      <td>1.165475</td>\n",
       "      <td>0.458333</td>\n",
       "      <td>01:16</td>\n",
       "    </tr>\n",
       "    <tr>\n",
       "      <td>22</td>\n",
       "      <td>0.949602</td>\n",
       "      <td>1.160670</td>\n",
       "      <td>0.462500</td>\n",
       "      <td>01:13</td>\n",
       "    </tr>\n",
       "    <tr>\n",
       "      <td>23</td>\n",
       "      <td>0.953264</td>\n",
       "      <td>1.165445</td>\n",
       "      <td>0.464167</td>\n",
       "      <td>01:17</td>\n",
       "    </tr>\n",
       "    <tr>\n",
       "      <td>24</td>\n",
       "      <td>0.955444</td>\n",
       "      <td>1.162301</td>\n",
       "      <td>0.469167</td>\n",
       "      <td>01:18</td>\n",
       "    </tr>\n",
       "  </tbody>\n",
       "</table>"
      ],
      "text/plain": [
       "<IPython.core.display.HTML object>"
      ]
     },
     "metadata": {},
     "output_type": "display_data"
    },
    {
     "data": {
      "image/png": "[encoded data removed]",
      "text/plain": [
       "<Figure size 432x288 with 1 Axes>"
      ]
     },
     "metadata": {},
     "output_type": "display_data"
    },
    {
     "data": {
      "image/png": "[encoded data removed]",
      "text/plain": [
       "<Figure size 432x288 with 1 Axes>"
      ]
     },
     "metadata": {
      "needs_background": "light"
     },
     "output_type": "display_data"
    }
   ],
   "source": [
    "\n",
    "learn.fit_one_cycle(25, max_lr=slice(1e-05))\n",
    "\n",
    "learn.model\n",
    "learn.recorder.plot_losses()"
   ]
  },
  {
   "cell_type": "code",
   "execution_count": 41,
   "metadata": {
    "colab": {
     "base_uri": "https://localhost:8080/",
     "height": 372
    },
    "colab_type": "code",
    "id": "J9-Zf2jbszST",
    "outputId": "22f75f69-a7fe-46b4-cd3e-8a0571dca383"
   },
   "outputs": [
    {
     "data": {
      "text/html": [
       "\n",
       "    <div>\n",
       "        <style>\n",
       "            /* Turns off some styling */\n",
       "            progress {\n",
       "                /* gets rid of default border in Firefox and Opera. */\n",
       "                border: none;\n",
       "                /* Needs to be in here for Safari polyfill so background images work as expected. */\n",
       "                background-size: auto;\n",
       "            }\n",
       "            .progress-bar-interrupted, .progress-bar-interrupted::-webkit-progress-bar {\n",
       "                background: #F44336;\n",
       "            }\n",
       "        </style>\n",
       "      <progress value='0' class='' max='1' style='width:300px; height:20px; vertical-align: middle;'></progress>\n",
       "      0.00% [0/1 00:00<00:00]\n",
       "    </div>\n",
       "    \n",
       "<table border=\"1\" class=\"dataframe\">\n",
       "  <thead>\n",
       "    <tr style=\"text-align: left;\">\n",
       "      <th>epoch</th>\n",
       "      <th>train_loss</th>\n",
       "      <th>valid_loss</th>\n",
       "      <th>accuracy</th>\n",
       "      <th>time</th>\n",
       "    </tr>\n",
       "  </thead>\n",
       "  <tbody>\n",
       "  </tbody>\n",
       "</table><p>\n",
       "\n",
       "    <div>\n",
       "        <style>\n",
       "            /* Turns off some styling */\n",
       "            progress {\n",
       "                /* gets rid of default border in Firefox and Opera. */\n",
       "                border: none;\n",
       "                /* Needs to be in here for Safari polyfill so background images work as expected. */\n",
       "                background-size: auto;\n",
       "            }\n",
       "            .progress-bar-interrupted, .progress-bar-interrupted::-webkit-progress-bar {\n",
       "                background: #F44336;\n",
       "            }\n",
       "        </style>\n",
       "      <progress value='91' class='' max='107' style='width:300px; height:20px; vertical-align: middle;'></progress>\n",
       "      85.05% [91/107 00:46<00:08 2.4923]\n",
       "    </div>\n",
       "    "
      ],
      "text/plain": [
       "<IPython.core.display.HTML object>"
      ]
     },
     "metadata": {},
     "output_type": "display_data"
    },
    {
     "name": "stdout",
     "output_type": "stream",
     "text": [
      "LR Finder is complete, type {learner_name}.recorder.plot() to see the graph.\n"
     ]
    },
    {
     "data": {
      "image/png": "[encoded data removed]",
      "text/plain": [
       "<Figure size 432x288 with 1 Axes>"
      ]
     },
     "metadata": {
      "needs_background": "light"
     },
     "output_type": "display_data"
    }
   ],
   "source": [
    "learn.lr_find()\n",
    "learn.recorder.plot()"
   ]
  },
  {
   "cell_type": "code",
   "execution_count": 42,
   "metadata": {
    "colab": {
     "base_uri": "https://localhost:8080/",
     "height": 988
    },
    "colab_type": "code",
    "id": "EFRZToyX9ca8",
    "outputId": "6d40d2d8-6307-411b-ae9f-a9859367e5d0"
   },
   "outputs": [
    {
     "data": {
      "text/html": [
       "<table border=\"1\" class=\"dataframe\">\n",
       "  <thead>\n",
       "    <tr style=\"text-align: left;\">\n",
       "      <th>epoch</th>\n",
       "      <th>train_loss</th>\n",
       "      <th>valid_loss</th>\n",
       "      <th>accuracy</th>\n",
       "      <th>time</th>\n",
       "    </tr>\n",
       "  </thead>\n",
       "  <tbody>\n",
       "    <tr>\n",
       "      <td>0</td>\n",
       "      <td>0.940346</td>\n",
       "      <td>1.161253</td>\n",
       "      <td>0.472500</td>\n",
       "      <td>01:14</td>\n",
       "    </tr>\n",
       "    <tr>\n",
       "      <td>1</td>\n",
       "      <td>0.946129</td>\n",
       "      <td>1.159998</td>\n",
       "      <td>0.463333</td>\n",
       "      <td>01:17</td>\n",
       "    </tr>\n",
       "    <tr>\n",
       "      <td>2</td>\n",
       "      <td>0.951091</td>\n",
       "      <td>1.155894</td>\n",
       "      <td>0.461667</td>\n",
       "      <td>01:19</td>\n",
       "    </tr>\n",
       "    <tr>\n",
       "      <td>3</td>\n",
       "      <td>0.956188</td>\n",
       "      <td>1.158657</td>\n",
       "      <td>0.463333</td>\n",
       "      <td>01:16</td>\n",
       "    </tr>\n",
       "    <tr>\n",
       "      <td>4</td>\n",
       "      <td>0.941342</td>\n",
       "      <td>1.163322</td>\n",
       "      <td>0.466667</td>\n",
       "      <td>00:53</td>\n",
       "    </tr>\n",
       "    <tr>\n",
       "      <td>5</td>\n",
       "      <td>0.947717</td>\n",
       "      <td>1.156142</td>\n",
       "      <td>0.466667</td>\n",
       "      <td>00:54</td>\n",
       "    </tr>\n",
       "    <tr>\n",
       "      <td>6</td>\n",
       "      <td>0.938546</td>\n",
       "      <td>1.159369</td>\n",
       "      <td>0.460000</td>\n",
       "      <td>00:53</td>\n",
       "    </tr>\n",
       "    <tr>\n",
       "      <td>7</td>\n",
       "      <td>0.937528</td>\n",
       "      <td>1.159865</td>\n",
       "      <td>0.469167</td>\n",
       "      <td>00:53</td>\n",
       "    </tr>\n",
       "    <tr>\n",
       "      <td>8</td>\n",
       "      <td>0.931634</td>\n",
       "      <td>1.165311</td>\n",
       "      <td>0.458333</td>\n",
       "      <td>00:52</td>\n",
       "    </tr>\n",
       "    <tr>\n",
       "      <td>9</td>\n",
       "      <td>0.934491</td>\n",
       "      <td>1.154138</td>\n",
       "      <td>0.475000</td>\n",
       "      <td>00:53</td>\n",
       "    </tr>\n",
       "    <tr>\n",
       "      <td>10</td>\n",
       "      <td>0.922746</td>\n",
       "      <td>1.157802</td>\n",
       "      <td>0.466667</td>\n",
       "      <td>00:52</td>\n",
       "    </tr>\n",
       "    <tr>\n",
       "      <td>11</td>\n",
       "      <td>0.914786</td>\n",
       "      <td>1.159623</td>\n",
       "      <td>0.470833</td>\n",
       "      <td>00:53</td>\n",
       "    </tr>\n",
       "    <tr>\n",
       "      <td>12</td>\n",
       "      <td>0.916573</td>\n",
       "      <td>1.164399</td>\n",
       "      <td>0.475000</td>\n",
       "      <td>00:53</td>\n",
       "    </tr>\n",
       "    <tr>\n",
       "      <td>13</td>\n",
       "      <td>0.916848</td>\n",
       "      <td>1.159038</td>\n",
       "      <td>0.465833</td>\n",
       "      <td>00:52</td>\n",
       "    </tr>\n",
       "    <tr>\n",
       "      <td>14</td>\n",
       "      <td>0.914412</td>\n",
       "      <td>1.156212</td>\n",
       "      <td>0.472500</td>\n",
       "      <td>00:53</td>\n",
       "    </tr>\n",
       "  </tbody>\n",
       "</table>"
      ],
      "text/plain": [
       "<IPython.core.display.HTML object>"
      ]
     },
     "metadata": {},
     "output_type": "display_data"
    },
    {
     "data": {
      "image/png": "[encoded data removed]",
      "text/plain": [
       "<Figure size 432x288 with 1 Axes>"
      ]
     },
     "metadata": {},
     "output_type": "display_data"
    },
    {
     "data": {
      "image/png": "[encoded data removed]",
      "text/plain": [
       "<Figure size 432x288 with 1 Axes>"
      ]
     },
     "metadata": {
      "needs_background": "light"
     },
     "output_type": "display_data"
    }
   ],
   "source": [
    "learn.fit_one_cycle(15, max_lr=slice(1e-06))\n",
    "learn.model\n",
    "learn.recorder.plot_losses()"
   ]
  },
  {
   "cell_type": "code",
   "execution_count": 44,
   "metadata": {
    "colab": {
     "base_uri": "https://localhost:8080/",
     "height": 16
    },
    "colab_type": "code",
    "id": "zvotTsd59jf8",
    "outputId": "fed6a0ab-3bf7-48a8-a6b2-7e1519815c5f"
   },
   "outputs": [
    {
     "data": {
      "text/html": [],
      "text/plain": [
       "<IPython.core.display.HTML object>"
      ]
     },
     "metadata": {},
     "output_type": "display_data"
    }
   ],
   "source": [
    "categories=learn.data.classes\n",
    "predictions, *_ = learn.get_preds(DatasetType.Test)\n",
    "labels = np.argmax(predictions, 1)\n",
    "a=[]\n",
    "for i in labels: a.append(categories[i])\n",
    "test = pd.read_csv('Test_LqhgPWU.csv')\n",
    "test_copy = test.copy()\n",
    "\n",
    "submission = pd.DataFrame(columns=['ID','Segmentation'])\n",
    "\n",
    "submission['ID'] = test_copy['ID']"
   ]
  },
  {
   "cell_type": "code",
   "execution_count": 45,
   "metadata": {},
   "outputs": [
    {
     "data": {
      "text/html": [
       "<div>\n",
       "<style scoped>\n",
       "    .dataframe tbody tr th:only-of-type {\n",
       "        vertical-align: middle;\n",
       "    }\n",
       "\n",
       "    .dataframe tbody tr th {\n",
       "        vertical-align: top;\n",
       "    }\n",
       "\n",
       "    .dataframe thead th {\n",
       "        text-align: right;\n",
       "    }\n",
       "</style>\n",
       "<table border=\"1\" class=\"dataframe\">\n",
       "  <thead>\n",
       "    <tr style=\"text-align: right;\">\n",
       "      <th></th>\n",
       "      <th>ID</th>\n",
       "      <th>Segmentation</th>\n",
       "    </tr>\n",
       "  </thead>\n",
       "  <tbody>\n",
       "    <tr>\n",
       "      <th>0</th>\n",
       "      <td>458989</td>\n",
       "      <td>D</td>\n",
       "    </tr>\n",
       "    <tr>\n",
       "      <th>1</th>\n",
       "      <td>458994</td>\n",
       "      <td>C</td>\n",
       "    </tr>\n",
       "    <tr>\n",
       "      <th>2</th>\n",
       "      <td>458996</td>\n",
       "      <td>A</td>\n",
       "    </tr>\n",
       "    <tr>\n",
       "      <th>3</th>\n",
       "      <td>459000</td>\n",
       "      <td>C</td>\n",
       "    </tr>\n",
       "    <tr>\n",
       "      <th>4</th>\n",
       "      <td>459001</td>\n",
       "      <td>D</td>\n",
       "    </tr>\n",
       "  </tbody>\n",
       "</table>\n",
       "</div>"
      ],
      "text/plain": [
       "       ID Segmentation\n",
       "0  458989            D\n",
       "1  458994            C\n",
       "2  458996            A\n",
       "3  459000            C\n",
       "4  459001            D"
      ]
     },
     "execution_count": 45,
     "metadata": {},
     "output_type": "execute_result"
    }
   ],
   "source": [
    "submission.head(5)"
   ]
  },
  {
   "cell_type": "code",
   "execution_count": null,
   "metadata": {},
   "outputs": [],
   "source": []
  }
 ],
 "metadata": {
  "accelerator": "GPU",
  "colab": {
   "collapsed_sections": [],
   "name": "Janatahack: Customer Segmentation.ipynb",
   "provenance": []
  },
  "kernelspec": {
   "display_name": "Python 3",
   "language": "python",
   "name": "python3"
  },
  "language_info": {
   "codemirror_mode": {
    "name": "ipython",
    "version": 3
   },
   "file_extension": ".py",
   "mimetype": "text/x-python",
   "name": "python",
   "nbconvert_exporter": "python",
   "pygments_lexer": "ipython3",
   "version": "3.8.8"
  }
 },
 "nbformat": 4,
 "nbformat_minor": 1
}
